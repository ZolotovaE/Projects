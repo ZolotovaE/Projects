{
  "nbformat": 4,
  "nbformat_minor": 0,
  "metadata": {
    "colab": {
      "provenance": []
    },
    "kernelspec": {
      "name": "python3",
      "display_name": "Python 3"
    },
    "language_info": {
      "name": "python"
    }
  },
  "cells": [
    {
      "cell_type": "code",
      "execution_count": null,
      "metadata": {
        "id": "mRL0iPAp0uL9"
      },
      "outputs": [],
      "source": [
        "import numpy as np\n",
        "import pandas as pd\n",
        "import scipy.stats as sts\n",
        "import scipy.stats as stats\n",
        "import matplotlib.pyplot as plt\n",
        "import seaborn as sns\n",
        "from datetime import datetime\n",
        "import statsmodels\n",
        "import statsmodels.stats.diagnostic as sm_diagnostic\n",
        "import statsmodels.formula.api as smf\n",
        "import statsmodels.api as sm"
      ]
    },
    {
      "cell_type": "code",
      "source": [
        "df = pd.read_excel('fully_data.xlsx')\n",
        "print(df.shape)\n",
        "df.head()"
      ],
      "metadata": {
        "colab": {
          "base_uri": "https://localhost:8080/",
          "height": 412
        },
        "id": "-qxDELbM05mF",
        "outputId": "b9d32682-1d2d-4d47-92f6-e4f883c2e462"
      },
      "execution_count": null,
      "outputs": [
        {
          "output_type": "stream",
          "name": "stdout",
          "text": [
            "(123, 38)\n"
          ]
        },
        {
          "output_type": "execute_result",
          "data": {
            "text/plain": [
              "                  Название фильма  GoodReviewVoteCount  FilmCritics  MPAA  \\\n",
              "0            John Wick: Chapter 4                   67          8.2     r   \n",
              "1                     Oppenheimer                  113          8.6     r   \n",
              "2                          Barbie                   61          8.0  pg13   \n",
              "3                       Civil War                   35          7.5     r   \n",
              "4  Guardians of the Galaxy Vol. 3                   74          7.2  pg13   \n",
              "\n",
              "   ratingKinopoisk  year  Length AgeLimits  \\\n",
              "0              7.6  2023     169     age18   \n",
              "1              8.1  2023     180       NaN   \n",
              "2              6.6  2023     114     age18   \n",
              "3              6.3  2023     109     age18   \n",
              "4              8.1  2023     150       NaN   \n",
              "\n",
              "                              countries  criminal  ...  anime  vestern  \\\n",
              "0                         США, Германия         1  ...      0        0   \n",
              "1                   США, Великобритания         0  ...      0        0   \n",
              "2                   США, Великобритания         0  ...      0        0   \n",
              "3        США, Великобритания, Финляндия         0  ...      0        0   \n",
              "4  США, Франция, Канада, Новая Зеландия         0  ...      0        0   \n",
              "\n",
              "   reliase date  sequel  star_power  SJW  weekend  season  box_office  \\\n",
              "0      24.03.23       1           0    0        0       0   440180275   \n",
              "1      21.07.23       0           7    0        0       1   975811333   \n",
              "2      21.07.23       0           0    1        0       1  1447038421   \n",
              "3      12.04.24       0           1    0        0       0   127337886   \n",
              "4      05.05.23       1           0    1        0       0   845555777   \n",
              "\n",
              "      budget  \n",
              "0   90000000  \n",
              "1  100000000  \n",
              "2  100000000  \n",
              "3   50000000  \n",
              "4  250000000  \n",
              "\n",
              "[5 rows x 38 columns]"
            ],
            "text/html": [
              "\n",
              "  <div id=\"df-b117c929-ce94-469f-9d6a-6dabeaf541c1\" class=\"colab-df-container\">\n",
              "    <div>\n",
              "<style scoped>\n",
              "    .dataframe tbody tr th:only-of-type {\n",
              "        vertical-align: middle;\n",
              "    }\n",
              "\n",
              "    .dataframe tbody tr th {\n",
              "        vertical-align: top;\n",
              "    }\n",
              "\n",
              "    .dataframe thead th {\n",
              "        text-align: right;\n",
              "    }\n",
              "</style>\n",
              "<table border=\"1\" class=\"dataframe\">\n",
              "  <thead>\n",
              "    <tr style=\"text-align: right;\">\n",
              "      <th></th>\n",
              "      <th>Название фильма</th>\n",
              "      <th>GoodReviewVoteCount</th>\n",
              "      <th>FilmCritics</th>\n",
              "      <th>MPAA</th>\n",
              "      <th>ratingKinopoisk</th>\n",
              "      <th>year</th>\n",
              "      <th>Length</th>\n",
              "      <th>AgeLimits</th>\n",
              "      <th>countries</th>\n",
              "      <th>criminal</th>\n",
              "      <th>...</th>\n",
              "      <th>anime</th>\n",
              "      <th>vestern</th>\n",
              "      <th>reliase date</th>\n",
              "      <th>sequel</th>\n",
              "      <th>star_power</th>\n",
              "      <th>SJW</th>\n",
              "      <th>weekend</th>\n",
              "      <th>season</th>\n",
              "      <th>box_office</th>\n",
              "      <th>budget</th>\n",
              "    </tr>\n",
              "  </thead>\n",
              "  <tbody>\n",
              "    <tr>\n",
              "      <th>0</th>\n",
              "      <td>John Wick: Chapter 4</td>\n",
              "      <td>67</td>\n",
              "      <td>8.2</td>\n",
              "      <td>r</td>\n",
              "      <td>7.6</td>\n",
              "      <td>2023</td>\n",
              "      <td>169</td>\n",
              "      <td>age18</td>\n",
              "      <td>США, Германия</td>\n",
              "      <td>1</td>\n",
              "      <td>...</td>\n",
              "      <td>0</td>\n",
              "      <td>0</td>\n",
              "      <td>24.03.23</td>\n",
              "      <td>1</td>\n",
              "      <td>0</td>\n",
              "      <td>0</td>\n",
              "      <td>0</td>\n",
              "      <td>0</td>\n",
              "      <td>440180275</td>\n",
              "      <td>90000000</td>\n",
              "    </tr>\n",
              "    <tr>\n",
              "      <th>1</th>\n",
              "      <td>Oppenheimer</td>\n",
              "      <td>113</td>\n",
              "      <td>8.6</td>\n",
              "      <td>r</td>\n",
              "      <td>8.1</td>\n",
              "      <td>2023</td>\n",
              "      <td>180</td>\n",
              "      <td>NaN</td>\n",
              "      <td>США, Великобритания</td>\n",
              "      <td>0</td>\n",
              "      <td>...</td>\n",
              "      <td>0</td>\n",
              "      <td>0</td>\n",
              "      <td>21.07.23</td>\n",
              "      <td>0</td>\n",
              "      <td>7</td>\n",
              "      <td>0</td>\n",
              "      <td>0</td>\n",
              "      <td>1</td>\n",
              "      <td>975811333</td>\n",
              "      <td>100000000</td>\n",
              "    </tr>\n",
              "    <tr>\n",
              "      <th>2</th>\n",
              "      <td>Barbie</td>\n",
              "      <td>61</td>\n",
              "      <td>8.0</td>\n",
              "      <td>pg13</td>\n",
              "      <td>6.6</td>\n",
              "      <td>2023</td>\n",
              "      <td>114</td>\n",
              "      <td>age18</td>\n",
              "      <td>США, Великобритания</td>\n",
              "      <td>0</td>\n",
              "      <td>...</td>\n",
              "      <td>0</td>\n",
              "      <td>0</td>\n",
              "      <td>21.07.23</td>\n",
              "      <td>0</td>\n",
              "      <td>0</td>\n",
              "      <td>1</td>\n",
              "      <td>0</td>\n",
              "      <td>1</td>\n",
              "      <td>1447038421</td>\n",
              "      <td>100000000</td>\n",
              "    </tr>\n",
              "    <tr>\n",
              "      <th>3</th>\n",
              "      <td>Civil War</td>\n",
              "      <td>35</td>\n",
              "      <td>7.5</td>\n",
              "      <td>r</td>\n",
              "      <td>6.3</td>\n",
              "      <td>2023</td>\n",
              "      <td>109</td>\n",
              "      <td>age18</td>\n",
              "      <td>США, Великобритания, Финляндия</td>\n",
              "      <td>0</td>\n",
              "      <td>...</td>\n",
              "      <td>0</td>\n",
              "      <td>0</td>\n",
              "      <td>12.04.24</td>\n",
              "      <td>0</td>\n",
              "      <td>1</td>\n",
              "      <td>0</td>\n",
              "      <td>0</td>\n",
              "      <td>0</td>\n",
              "      <td>127337886</td>\n",
              "      <td>50000000</td>\n",
              "    </tr>\n",
              "    <tr>\n",
              "      <th>4</th>\n",
              "      <td>Guardians of the Galaxy Vol. 3</td>\n",
              "      <td>74</td>\n",
              "      <td>7.2</td>\n",
              "      <td>pg13</td>\n",
              "      <td>8.1</td>\n",
              "      <td>2023</td>\n",
              "      <td>150</td>\n",
              "      <td>NaN</td>\n",
              "      <td>США, Франция, Канада, Новая Зеландия</td>\n",
              "      <td>0</td>\n",
              "      <td>...</td>\n",
              "      <td>0</td>\n",
              "      <td>0</td>\n",
              "      <td>05.05.23</td>\n",
              "      <td>1</td>\n",
              "      <td>0</td>\n",
              "      <td>1</td>\n",
              "      <td>0</td>\n",
              "      <td>0</td>\n",
              "      <td>845555777</td>\n",
              "      <td>250000000</td>\n",
              "    </tr>\n",
              "  </tbody>\n",
              "</table>\n",
              "<p>5 rows × 38 columns</p>\n",
              "</div>\n",
              "    <div class=\"colab-df-buttons\">\n",
              "\n",
              "  <div class=\"colab-df-container\">\n",
              "    <button class=\"colab-df-convert\" onclick=\"convertToInteractive('df-b117c929-ce94-469f-9d6a-6dabeaf541c1')\"\n",
              "            title=\"Convert this dataframe to an interactive table.\"\n",
              "            style=\"display:none;\">\n",
              "\n",
              "  <svg xmlns=\"http://www.w3.org/2000/svg\" height=\"24px\" viewBox=\"0 -960 960 960\">\n",
              "    <path d=\"M120-120v-720h720v720H120Zm60-500h600v-160H180v160Zm220 220h160v-160H400v160Zm0 220h160v-160H400v160ZM180-400h160v-160H180v160Zm440 0h160v-160H620v160ZM180-180h160v-160H180v160Zm440 0h160v-160H620v160Z\"/>\n",
              "  </svg>\n",
              "    </button>\n",
              "\n",
              "  <style>\n",
              "    .colab-df-container {\n",
              "      display:flex;\n",
              "      gap: 12px;\n",
              "    }\n",
              "\n",
              "    .colab-df-convert {\n",
              "      background-color: #E8F0FE;\n",
              "      border: none;\n",
              "      border-radius: 50%;\n",
              "      cursor: pointer;\n",
              "      display: none;\n",
              "      fill: #1967D2;\n",
              "      height: 32px;\n",
              "      padding: 0 0 0 0;\n",
              "      width: 32px;\n",
              "    }\n",
              "\n",
              "    .colab-df-convert:hover {\n",
              "      background-color: #E2EBFA;\n",
              "      box-shadow: 0px 1px 2px rgba(60, 64, 67, 0.3), 0px 1px 3px 1px rgba(60, 64, 67, 0.15);\n",
              "      fill: #174EA6;\n",
              "    }\n",
              "\n",
              "    .colab-df-buttons div {\n",
              "      margin-bottom: 4px;\n",
              "    }\n",
              "\n",
              "    [theme=dark] .colab-df-convert {\n",
              "      background-color: #3B4455;\n",
              "      fill: #D2E3FC;\n",
              "    }\n",
              "\n",
              "    [theme=dark] .colab-df-convert:hover {\n",
              "      background-color: #434B5C;\n",
              "      box-shadow: 0px 1px 3px 1px rgba(0, 0, 0, 0.15);\n",
              "      filter: drop-shadow(0px 1px 2px rgba(0, 0, 0, 0.3));\n",
              "      fill: #FFFFFF;\n",
              "    }\n",
              "  </style>\n",
              "\n",
              "    <script>\n",
              "      const buttonEl =\n",
              "        document.querySelector('#df-b117c929-ce94-469f-9d6a-6dabeaf541c1 button.colab-df-convert');\n",
              "      buttonEl.style.display =\n",
              "        google.colab.kernel.accessAllowed ? 'block' : 'none';\n",
              "\n",
              "      async function convertToInteractive(key) {\n",
              "        const element = document.querySelector('#df-b117c929-ce94-469f-9d6a-6dabeaf541c1');\n",
              "        const dataTable =\n",
              "          await google.colab.kernel.invokeFunction('convertToInteractive',\n",
              "                                                    [key], {});\n",
              "        if (!dataTable) return;\n",
              "\n",
              "        const docLinkHtml = 'Like what you see? Visit the ' +\n",
              "          '<a target=\"_blank\" href=https://colab.research.google.com/notebooks/data_table.ipynb>data table notebook</a>'\n",
              "          + ' to learn more about interactive tables.';\n",
              "        element.innerHTML = '';\n",
              "        dataTable['output_type'] = 'display_data';\n",
              "        await google.colab.output.renderOutput(dataTable, element);\n",
              "        const docLink = document.createElement('div');\n",
              "        docLink.innerHTML = docLinkHtml;\n",
              "        element.appendChild(docLink);\n",
              "      }\n",
              "    </script>\n",
              "  </div>\n",
              "\n",
              "\n",
              "    <div id=\"df-cc0fbe32-14a9-4b73-be5f-db912446dbfb\">\n",
              "      <button class=\"colab-df-quickchart\" onclick=\"quickchart('df-cc0fbe32-14a9-4b73-be5f-db912446dbfb')\"\n",
              "                title=\"Suggest charts\"\n",
              "                style=\"display:none;\">\n",
              "\n",
              "<svg xmlns=\"http://www.w3.org/2000/svg\" height=\"24px\"viewBox=\"0 0 24 24\"\n",
              "     width=\"24px\">\n",
              "    <g>\n",
              "        <path d=\"M19 3H5c-1.1 0-2 .9-2 2v14c0 1.1.9 2 2 2h14c1.1 0 2-.9 2-2V5c0-1.1-.9-2-2-2zM9 17H7v-7h2v7zm4 0h-2V7h2v10zm4 0h-2v-4h2v4z\"/>\n",
              "    </g>\n",
              "</svg>\n",
              "      </button>\n",
              "\n",
              "<style>\n",
              "  .colab-df-quickchart {\n",
              "      --bg-color: #E8F0FE;\n",
              "      --fill-color: #1967D2;\n",
              "      --hover-bg-color: #E2EBFA;\n",
              "      --hover-fill-color: #174EA6;\n",
              "      --disabled-fill-color: #AAA;\n",
              "      --disabled-bg-color: #DDD;\n",
              "  }\n",
              "\n",
              "  [theme=dark] .colab-df-quickchart {\n",
              "      --bg-color: #3B4455;\n",
              "      --fill-color: #D2E3FC;\n",
              "      --hover-bg-color: #434B5C;\n",
              "      --hover-fill-color: #FFFFFF;\n",
              "      --disabled-bg-color: #3B4455;\n",
              "      --disabled-fill-color: #666;\n",
              "  }\n",
              "\n",
              "  .colab-df-quickchart {\n",
              "    background-color: var(--bg-color);\n",
              "    border: none;\n",
              "    border-radius: 50%;\n",
              "    cursor: pointer;\n",
              "    display: none;\n",
              "    fill: var(--fill-color);\n",
              "    height: 32px;\n",
              "    padding: 0;\n",
              "    width: 32px;\n",
              "  }\n",
              "\n",
              "  .colab-df-quickchart:hover {\n",
              "    background-color: var(--hover-bg-color);\n",
              "    box-shadow: 0 1px 2px rgba(60, 64, 67, 0.3), 0 1px 3px 1px rgba(60, 64, 67, 0.15);\n",
              "    fill: var(--button-hover-fill-color);\n",
              "  }\n",
              "\n",
              "  .colab-df-quickchart-complete:disabled,\n",
              "  .colab-df-quickchart-complete:disabled:hover {\n",
              "    background-color: var(--disabled-bg-color);\n",
              "    fill: var(--disabled-fill-color);\n",
              "    box-shadow: none;\n",
              "  }\n",
              "\n",
              "  .colab-df-spinner {\n",
              "    border: 2px solid var(--fill-color);\n",
              "    border-color: transparent;\n",
              "    border-bottom-color: var(--fill-color);\n",
              "    animation:\n",
              "      spin 1s steps(1) infinite;\n",
              "  }\n",
              "\n",
              "  @keyframes spin {\n",
              "    0% {\n",
              "      border-color: transparent;\n",
              "      border-bottom-color: var(--fill-color);\n",
              "      border-left-color: var(--fill-color);\n",
              "    }\n",
              "    20% {\n",
              "      border-color: transparent;\n",
              "      border-left-color: var(--fill-color);\n",
              "      border-top-color: var(--fill-color);\n",
              "    }\n",
              "    30% {\n",
              "      border-color: transparent;\n",
              "      border-left-color: var(--fill-color);\n",
              "      border-top-color: var(--fill-color);\n",
              "      border-right-color: var(--fill-color);\n",
              "    }\n",
              "    40% {\n",
              "      border-color: transparent;\n",
              "      border-right-color: var(--fill-color);\n",
              "      border-top-color: var(--fill-color);\n",
              "    }\n",
              "    60% {\n",
              "      border-color: transparent;\n",
              "      border-right-color: var(--fill-color);\n",
              "    }\n",
              "    80% {\n",
              "      border-color: transparent;\n",
              "      border-right-color: var(--fill-color);\n",
              "      border-bottom-color: var(--fill-color);\n",
              "    }\n",
              "    90% {\n",
              "      border-color: transparent;\n",
              "      border-bottom-color: var(--fill-color);\n",
              "    }\n",
              "  }\n",
              "</style>\n",
              "\n",
              "      <script>\n",
              "        async function quickchart(key) {\n",
              "          const quickchartButtonEl =\n",
              "            document.querySelector('#' + key + ' button');\n",
              "          quickchartButtonEl.disabled = true;  // To prevent multiple clicks.\n",
              "          quickchartButtonEl.classList.add('colab-df-spinner');\n",
              "          try {\n",
              "            const charts = await google.colab.kernel.invokeFunction(\n",
              "                'suggestCharts', [key], {});\n",
              "          } catch (error) {\n",
              "            console.error('Error during call to suggestCharts:', error);\n",
              "          }\n",
              "          quickchartButtonEl.classList.remove('colab-df-spinner');\n",
              "          quickchartButtonEl.classList.add('colab-df-quickchart-complete');\n",
              "        }\n",
              "        (() => {\n",
              "          let quickchartButtonEl =\n",
              "            document.querySelector('#df-cc0fbe32-14a9-4b73-be5f-db912446dbfb button');\n",
              "          quickchartButtonEl.style.display =\n",
              "            google.colab.kernel.accessAllowed ? 'block' : 'none';\n",
              "        })();\n",
              "      </script>\n",
              "    </div>\n",
              "    </div>\n",
              "  </div>\n"
            ],
            "application/vnd.google.colaboratory.intrinsic+json": {
              "type": "dataframe",
              "variable_name": "df"
            }
          },
          "metadata": {},
          "execution_count": 4
        }
      ]
    },
    {
      "cell_type": "markdown",
      "source": [
        "# 1. Описательные статистики"
      ],
      "metadata": {
        "id": "jOkN9oWC-erU"
      }
    },
    {
      "cell_type": "code",
      "source": [
        "plt.figure(figsize=(5, 3))\n",
        "sns.boxplot(data=df, x='box_office')\n",
        "plt.title('box_office')\n",
        "plt.xlabel('Общемировые сборы(в USD)')\n",
        "plt.show()\n",
        "\n",
        "plt.figure(figsize=(5, 3))\n",
        "sns.histplot(df['box_office'], kde=True, bins=11)\n",
        "plt.title('box_office')\n",
        "plt.xlabel('Общемировые сборы(в USD)')\n",
        "plt.ylabel('Частота')\n",
        "plt.show()"
      ],
      "metadata": {
        "id": "w92BaWbs7spT",
        "colab": {
          "base_uri": "https://localhost:8080/",
          "height": 649
        },
        "outputId": "9aa3515a-112f-4b49-8721-f4283b7535b4"
      },
      "execution_count": null,
      "outputs": [
        {
          "output_type": "display_data",
          "data": {
            "text/plain": [
              "<Figure size 500x300 with 1 Axes>"
            ],
            "image/png": "[encoded data removed]"
          },
          "metadata": {}
        },
        {
          "output_type": "display_data",
          "data": {
            "text/plain": [
              "<Figure size 500x300 with 1 Axes>"
            ],
            "image/png": "[encoded data removed]"
          },
          "metadata": {}
        }
      ]
    },
    {
      "cell_type": "code",
      "source": [
        "plt.figure(figsize=(5, 3))\n",
        "sns.boxplot(data=df, x='budget')\n",
        "plt.title('budget')\n",
        "plt.xlabel('Бюджет(в USD)')\n",
        "plt.show()\n",
        "\n",
        "plt.figure(figsize=(5, 3))\n",
        "sns.histplot(df['budget'], kde=True, bins=7)\n",
        "plt.title('budget')\n",
        "plt.xlabel('Бюджет(в USD)')\n",
        "plt.ylabel('Частота')\n",
        "plt.show()"
      ],
      "metadata": {
        "id": "_j5QZTNy7sz6",
        "colab": {
          "base_uri": "https://localhost:8080/",
          "height": 649
        },
        "outputId": "f5f08d4a-c3bf-40e5-84aa-d825eee1c8f8"
      },
      "execution_count": null,
      "outputs": [
        {
          "output_type": "display_data",
          "data": {
            "text/plain": [
              "<Figure size 500x300 with 1 Axes>"
            ],
            "image/png": "[encoded data removed]"
          },
          "metadata": {}
        },
        {
          "output_type": "display_data",
          "data": {
            "text/plain": [
              "<Figure size 500x300 with 1 Axes>"
            ],
            "image/png": "[encoded data removed]"
          },
          "metadata": {}
        }
      ]
    },
    {
      "cell_type": "code",
      "source": [
        "plt.figure(figsize=(5, 3))\n",
        "sns.boxplot(data=df, x='ratingKinopoisk')\n",
        "plt.title('ratingKinopoisk')\n",
        "plt.xlabel('Оценка')\n",
        "plt.show()\n",
        "\n",
        "plt.figure(figsize=(5, 3))\n",
        "sns.histplot(df['ratingKinopoisk'], kde=True)\n",
        "plt.title('ratingKinopoisk')\n",
        "plt.xlabel('Оценка')\n",
        "plt.ylabel('Частота')\n",
        "plt.show()"
      ],
      "metadata": {
        "id": "Fczgmwdb7s-W",
        "colab": {
          "base_uri": "https://localhost:8080/",
          "height": 649
        },
        "outputId": "3e67298b-7afa-4d6a-a391-eb85f3c3ea5f"
      },
      "execution_count": null,
      "outputs": [
        {
          "output_type": "display_data",
          "data": {
            "text/plain": [
              "<Figure size 500x300 with 1 Axes>"
            ],
            "image/png": "[encoded data removed]"
          },
          "metadata": {}
        },
        {
          "output_type": "display_data",
          "data": {
            "text/plain": [
              "<Figure size 500x300 with 1 Axes>"
            ],
            "image/png": "[encoded data removed]"
          },
          "metadata": {}
        }
      ]
    },
    {
      "cell_type": "code",
      "source": [
        "plt.figure(figsize=(5, 3))\n",
        "sns.boxplot(data=df, x='FilmCritics')\n",
        "plt.title('FilmCritics')\n",
        "plt.xlabel('Оценка')\n",
        "plt.show()\n",
        "\n",
        "plt.figure(figsize=(5, 3))\n",
        "sns.histplot(df['FilmCritics'], kde=False, color='blue', label='Критики', bins=10, multiple='dodge')\n",
        "sns.histplot(df['ratingKinopoisk'], kde=False, color='red', label='Кинопоиск', bins=10, multiple='dodge')\n",
        "plt.title('Оценки')\n",
        "plt.xlabel('')\n",
        "plt.ylabel('Частота')\n",
        "plt.show()"
      ],
      "metadata": {
        "id": "qDYXR9cV7tGu",
        "colab": {
          "base_uri": "https://localhost:8080/",
          "height": 630
        },
        "outputId": "08f1105a-a691-407e-9633-5b29fade762e"
      },
      "execution_count": null,
      "outputs": [
        {
          "output_type": "display_data",
          "data": {
            "text/plain": [
              "<Figure size 500x300 with 1 Axes>"
            ],
            "image/png": "[encoded data removed]"
          },
          "metadata": {}
        },
        {
          "output_type": "display_data",
          "data": {
            "text/plain": [
              "<Figure size 500x300 with 1 Axes>"
            ],
            "image/png": "[encoded data removed]"
          },
          "metadata": {}
        }
      ]
    },
    {
      "cell_type": "code",
      "source": [],
      "metadata": {
        "id": "8C0KQwBS7tPX"
      },
      "execution_count": null,
      "outputs": []
    },
    {
      "cell_type": "code",
      "source": [],
      "metadata": {
        "id": "2Nu4mT1U05sq"
      },
      "execution_count": null,
      "outputs": []
    },
    {
      "cell_type": "code",
      "source": [],
      "metadata": {
        "id": "H3kRQKgk05wB"
      },
      "execution_count": null,
      "outputs": []
    },
    {
      "cell_type": "code",
      "source": [],
      "metadata": {
        "id": "I6PVZatp05z2"
      },
      "execution_count": null,
      "outputs": []
    },
    {
      "cell_type": "markdown",
      "source": [
        "# 2. Построение линейной регрессии (из статьи)"
      ],
      "metadata": {
        "id": "a8ONcGC1-sqI"
      }
    },
    {
      "cell_type": "markdown",
      "source": [
        "### 2.1 Построим модель, описанную в статье.\n",
        "\n",
        "То есть линейную регрессию на кассовые сборы от производственных затрат, зрительских и профессиональных оценок, возрастного рейтинга, звездности фильма, его жанра даты выпуска и того является ли он сиквелом."
      ],
      "metadata": {
        "id": "yv77sJIv-0La"
      }
    },
    {
      "cell_type": "markdown",
      "source": [
        "Так как в оригинальной работе для жанра использовалась одна дамми-переменная, которая равнялась 0, если жанром была драма и 1 в остальных случаях, то было принято решение протестировать несколько регрессий для разных конфигураций переменных"
      ],
      "metadata": {
        "id": "QKKgQ63IAaf6"
      }
    },
    {
      "cell_type": "code",
      "source": [
        "# Создаем новый столбец 'dummy_drama'\n",
        "df['dummy_drama'] = (~df['drama'].astype(bool)).astype(int)\n",
        "\n",
        "#Преобразуем категориальные переменные в числовые\n",
        "df['R'] = (df['MPAA'] != 'G').astype(int)\n"
      ],
      "metadata": {
        "id": "QUtsnAnbIEuT"
      },
      "execution_count": null,
      "outputs": []
    },
    {
      "cell_type": "markdown",
      "source": [
        "Как было замечено в процессе оценки моделей, в данных содержатся фильмы, для которых ненаблюдаются некоторый значения из-за чего модель не может быть корректно оценена, поэтому было принято решение их удалить."
      ],
      "metadata": {
        "id": "MV6b9pqIjTva"
      }
    },
    {
      "cell_type": "code",
      "source": [
        "# Создаем копию данных для безопасности\n",
        "data = df.copy()\n",
        "\n",
        "# Удаляем строки, где есть хотя бы одно NaN значение в выбранных столбцах\n",
        "data = data.dropna(subset=[\n",
        "    'budget',\n",
        "    'FilmCritics',\n",
        "    'star_power',\n",
        "    'dummy_drama',\n",
        "    'sequel',\n",
        "    'season',\n",
        "    'weekend',\n",
        "    'box_office'\n",
        "])\n",
        "\n",
        "# Проверяем результат\n",
        "print(f\"Было строк: {len(df)}, стало: {len(data)}\")\n",
        "print(f\"Удалено строк: {len(df) - len(data)}\")"
      ],
      "metadata": {
        "colab": {
          "base_uri": "https://localhost:8080/"
        },
        "id": "dz5mYN-PjRQr",
        "outputId": "63f044a7-cc52-4e7e-b1ed-ced345170b5c"
      },
      "execution_count": null,
      "outputs": [
        {
          "output_type": "stream",
          "name": "stdout",
          "text": [
            "Было строк: 123, стало: 120\n",
            "Удалено строк: 3\n"
          ]
        }
      ]
    },
    {
      "cell_type": "markdown",
      "source": [
        "Заметим, что в данных отсутсвуют фильмы, для которых рейтинг бы являлся G, поэтому данная переменная будет лишь константой в модели, поэтому было принято решение ее исключить."
      ],
      "metadata": {
        "id": "Yb8Ruy3zE8zn"
      }
    },
    {
      "cell_type": "code",
      "source": [
        "#Оригинальная модель\n",
        "X = data[['budget', 'FilmCritics', 'star_power', 'dummy_drama', 'sequel', 'season', 'weekend']]\n",
        "y = data['box_office']\n",
        "\n",
        "# Преобразуем все данные в числовой формат (на всякий случай)\n",
        "X = X.apply(pd.to_numeric, errors='coerce')\n",
        "y = pd.to_numeric(y, errors='coerce')\n",
        "\n",
        "X = sm.add_constant(X)\n",
        "model_1 = sm.OLS(y, X).fit()\n",
        "print(model_1.summary())"
      ],
      "metadata": {
        "colab": {
          "base_uri": "https://localhost:8080/"
        },
        "id": "riXv-EHpAY52",
        "outputId": "7de56a78-1997-4b94-afbb-d56bebcc4b6d"
      },
      "execution_count": null,
      "outputs": [
        {
          "output_type": "stream",
          "name": "stdout",
          "text": [
            "                            OLS Regression Results                            \n",
            "==============================================================================\n",
            "Dep. Variable:             box_office   R-squared:                       0.463\n",
            "Model:                            OLS   Adj. R-squared:                  0.429\n",
            "Method:                 Least Squares   F-statistic:                     13.79\n",
            "Date:                Wed, 07 May 2025   Prob (F-statistic):           8.95e-13\n",
            "Time:                        21:20:39   Log-Likelihood:                -2485.2\n",
            "No. Observations:                 120   AIC:                             4986.\n",
            "Df Residuals:                     112   BIC:                             5009.\n",
            "Df Model:                           7                                         \n",
            "Covariance Type:            nonrobust                                         \n",
            "===============================================================================\n",
            "                  coef    std err          t      P>|t|      [0.025      0.975]\n",
            "-------------------------------------------------------------------------------\n",
            "const       -4.998e+08   1.41e+08     -3.536      0.001    -7.8e+08    -2.2e+08\n",
            "budget          1.7635      0.347      5.083      0.000       1.076       2.451\n",
            "FilmCritics  7.225e+07   2.02e+07      3.577      0.001    3.22e+07    1.12e+08\n",
            "star_power  -2.937e+06   2.28e+07     -0.129      0.898   -4.82e+07    4.23e+07\n",
            "dummy_drama  6.159e+07   5.62e+07      1.097      0.275   -4.97e+07    1.73e+08\n",
            "sequel       1.962e+08   5.41e+07      3.623      0.000    8.89e+07    3.03e+08\n",
            "season        1.05e+08    4.8e+07      2.185      0.031    9.77e+06       2e+08\n",
            "weekend     -1.644e+08    1.8e+08     -0.912      0.364   -5.22e+08    1.93e+08\n",
            "==============================================================================\n",
            "Omnibus:                       70.202   Durbin-Watson:                   1.611\n",
            "Prob(Omnibus):                  0.000   Jarque-Bera (JB):              284.674\n",
            "Skew:                           2.125   Prob(JB):                     1.53e-62\n",
            "Kurtosis:                       9.234   Cond. No.                     9.35e+08\n",
            "==============================================================================\n",
            "\n",
            "Notes:\n",
            "[1] Standard Errors assume that the covariance matrix of the errors is correctly specified.\n",
            "[2] The condition number is large, 9.35e+08. This might indicate that there are\n",
            "strong multicollinearity or other numerical problems.\n"
          ]
        }
      ]
    },
    {
      "cell_type": "code",
      "source": [
        "# Поиск выбросов\n",
        "influence = model_1.get_influence()\n",
        "inf_sum = influence.summary_frame()\n",
        "\n",
        "outliers = inf_sum[inf_sum['student_resid'] > 3]\n",
        "outliers_index = outliers.index\n",
        "print(outliers_index)"
      ],
      "metadata": {
        "id": "fJvlsTmCIEzf",
        "colab": {
          "base_uri": "https://localhost:8080/"
        },
        "outputId": "abfe69a5-ec5c-4ad2-9280-06b14732be4a"
      },
      "execution_count": null,
      "outputs": [
        {
          "output_type": "stream",
          "name": "stdout",
          "text": [
            "Index([1, 2, 31, 73], dtype='int64')\n"
          ]
        }
      ]
    },
    {
      "cell_type": "markdown",
      "source": [
        "Так как в данных присутсвуют выбросы и их количество мало по сравнению с датасетом, то было принято решение их удалить"
      ],
      "metadata": {
        "id": "jlyjnNZsXo6h"
      }
    },
    {
      "cell_type": "code",
      "source": [
        "# Удаляем строки с указанными индексами\n",
        "data = data.drop(index=[1, 2, 31, 73])\n",
        "\n",
        "# Проверяем результат\n",
        "print(f\"Размер после удаления: {data.shape}\")"
      ],
      "metadata": {
        "colab": {
          "base_uri": "https://localhost:8080/"
        },
        "id": "oIs4KlWeZJ3N",
        "outputId": "da0390b6-81c2-498b-a537-ea09192e6d11"
      },
      "execution_count": null,
      "outputs": [
        {
          "output_type": "stream",
          "name": "stdout",
          "text": [
            "Размер после удаления: (116, 40)\n"
          ]
        }
      ]
    },
    {
      "cell_type": "code",
      "source": [
        "# Рассчет VIF для проверки мультиколениарности\n",
        "from statsmodels.stats.outliers_influence import variance_inflation_factor\n",
        "\n",
        "vif_data = pd.DataFrame()\n",
        "vif_data[\"feature\"] = X.columns\n",
        "vif_data[\"VIF\"] = [variance_inflation_factor(X.values, i) for i in range(X.shape[1])]\n",
        "\n",
        "print(\"VIF:\\n\", vif_data)"
      ],
      "metadata": {
        "colab": {
          "base_uri": "https://localhost:8080/"
        },
        "id": "CNjt2R46X41X",
        "outputId": "bb73bf4e-96fd-401c-ffc3-d097d90af8b0"
      },
      "execution_count": null,
      "outputs": [
        {
          "output_type": "stream",
          "name": "stdout",
          "text": [
            "VIF:\n",
            "        feature        VIF\n",
            "0        const  39.260163\n",
            "1       budget   1.376874\n",
            "2  FilmCritics   1.155352\n",
            "3   star_power   1.309966\n",
            "4  dummy_drama   1.302034\n",
            "5       sequel   1.350433\n",
            "6       season   1.072215\n",
            "7      weekend   1.046479\n"
          ]
        }
      ]
    },
    {
      "cell_type": "markdown",
      "source": [
        "То есть мультиколениарности в модели нет, константа искусственно завышена и всегда игнорируется"
      ],
      "metadata": {
        "id": "Hm37t5hbYyGH"
      }
    },
    {
      "cell_type": "code",
      "source": [
        "#Распределние остатков\n",
        "data['fitted'] = model_1.fittedvalues\n",
        "data['residuals'] = model_1.resid\n",
        "\n",
        "plt.figure(figsize=(5, 3))\n",
        "plt.scatter(data['fitted'], data['residuals'], alpha=0.5)\n",
        "plt.axhline(y=0, color='r', linestyle='--')\n",
        "plt.title('График Остатки–Прогнозы')\n",
        "plt.xlabel('Предсказанные значения')\n",
        "plt.ylabel('Остатки')\n",
        "plt.grid()\n",
        "plt.show()"
      ],
      "metadata": {
        "colab": {
          "base_uri": "https://localhost:8080/",
          "height": 333
        },
        "id": "FrZianRzX5CK",
        "outputId": "8e9f7451-b32c-4a92-c01e-68d9e319cdd6"
      },
      "execution_count": null,
      "outputs": [
        {
          "output_type": "display_data",
          "data": {
            "text/plain": [
              "<Figure size 500x300 with 1 Axes>"
            ],
            "image/png": "[encoded data removed]"
          },
          "metadata": {}
        }
      ]
    },
    {
      "cell_type": "code",
      "source": [
        "from statsmodels.stats.diagnostic import het_white\n",
        "# Тест Уайта\n",
        "white_test = het_white(model_1.resid, model_1.model.exog)\n",
        "white_test_results = pd.Series(white_test, index=['Лямбда', 'p-значение', 'F-статистика', 'p-значение F'])\n",
        "print(\"\\nТест Уайта:\\n\", white_test_results)"
      ],
      "metadata": {
        "colab": {
          "base_uri": "https://localhost:8080/"
        },
        "id": "ZzYpdAg5b2O_",
        "outputId": "c3ab347e-2c8d-4e53-9d3c-0786d63599e3"
      },
      "execution_count": null,
      "outputs": [
        {
          "output_type": "stream",
          "name": "stdout",
          "text": [
            "\n",
            "Тест Уайта:\n",
            " Лямбда          19.103906\n",
            "p-значение       0.007868\n",
            "F-статистика     3.029478\n",
            "p-значение F     0.005914\n",
            "dtype: float64\n"
          ]
        }
      ]
    },
    {
      "cell_type": "markdown",
      "source": [
        "Из графика видно, что остатки дейсвительно распределены неравномерно и  в данных присутсвует гетероскедастичность, с которой необходимо бороться, что подтвержается тестом Уайта."
      ],
      "metadata": {
        "id": "f2Oyj-aSanPv"
      }
    },
    {
      "cell_type": "markdown",
      "source": [
        "### 2.2 Пропробуем переоценить прошлую модель с учетом выводов выше"
      ],
      "metadata": {
        "id": "slAPnAFbbhu2"
      }
    },
    {
      "cell_type": "code",
      "source": [
        "X_2 = data[['budget', 'FilmCritics', 'star_power', 'dummy_drama', 'sequel', 'season', 'weekend']]\n",
        "y = data['box_office']\n",
        "\n",
        "X_2 = sm.add_constant(X_2)\n",
        "model_2 = sm.OLS(y, X_2).fit(cov_type='HC3')\n",
        "print(model_2.summary())"
      ],
      "metadata": {
        "colab": {
          "base_uri": "https://localhost:8080/"
        },
        "id": "dGDKa0IwX5VF",
        "outputId": "f18553d8-8b83-436a-b52e-c15aeaaaa2ad"
      },
      "execution_count": null,
      "outputs": [
        {
          "output_type": "stream",
          "name": "stdout",
          "text": [
            "                            OLS Regression Results                            \n",
            "==============================================================================\n",
            "Dep. Variable:             box_office   R-squared:                       0.575\n",
            "Model:                            OLS   Adj. R-squared:                  0.547\n",
            "Method:                 Least Squares   F-statistic:                     5.071\n",
            "Date:                Wed, 07 May 2025   Prob (F-statistic):           0.000128\n",
            "Time:                        21:20:39   Log-Likelihood:                -2359.0\n",
            "No. Observations:                 116   AIC:                             4734.\n",
            "Df Residuals:                     108   BIC:                             4756.\n",
            "Df Model:                           7                                         \n",
            "Covariance Type:                  HC3                                         \n",
            "===============================================================================\n",
            "                  coef    std err          z      P>|z|      [0.025      0.975]\n",
            "-------------------------------------------------------------------------------\n",
            "const        -2.98e+08   1.11e+08     -2.682      0.007   -5.16e+08   -8.02e+07\n",
            "budget          1.7931      0.280      6.397      0.000       1.244       2.343\n",
            "FilmCritics  4.521e+07   1.42e+07      3.187      0.001    1.74e+07     7.3e+07\n",
            "star_power  -3.313e+07   3.17e+07     -1.044      0.297   -9.53e+07    2.91e+07\n",
            "dummy_drama  1.394e+07   3.45e+07      0.404      0.686   -5.37e+07    8.16e+07\n",
            "sequel       1.794e+08      4e+07      4.480      0.000    1.01e+08    2.58e+08\n",
            "season       5.133e+07   3.87e+07      1.326      0.185   -2.45e+07    1.27e+08\n",
            "weekend      -7.82e+07   6.86e+07     -1.140      0.254   -2.13e+08    5.62e+07\n",
            "==============================================================================\n",
            "Omnibus:                       53.235   Durbin-Watson:                   1.778\n",
            "Prob(Omnibus):                  0.000   Jarque-Bera (JB):              167.975\n",
            "Skew:                           1.677   Prob(JB):                     3.35e-37\n",
            "Kurtosis:                       7.848   Cond. No.                     9.21e+08\n",
            "==============================================================================\n",
            "\n",
            "Notes:\n",
            "[1] Standard Errors are heteroscedasticity robust (HC3)\n",
            "[2] The condition number is large, 9.21e+08. This might indicate that there are\n",
            "strong multicollinearity or other numerical problems.\n"
          ]
        },
        {
          "output_type": "stream",
          "name": "stderr",
          "text": [
            "/usr/local/lib/python3.11/dist-packages/statsmodels/base/model.py:1894: ValueWarning: covariance of constraints does not have full rank. The number of constraints is 7, but rank is 6\n",
            "  warnings.warn('covariance of constraints does not have full '\n"
          ]
        }
      ]
    },
    {
      "cell_type": "code",
      "source": [
        "# Рассчет VIF для проверки мультиколениарности\n",
        "vif_data = pd.DataFrame()\n",
        "vif_data[\"feature\"] = X.columns\n",
        "vif_data[\"VIF\"] = [variance_inflation_factor(X.values, i) for i in range(X.shape[1])]\n",
        "\n",
        "print(\"VIF:\\n\", vif_data)"
      ],
      "metadata": {
        "colab": {
          "base_uri": "https://localhost:8080/"
        },
        "id": "AAxrBM4Qo_mI",
        "outputId": "fd82d03a-5036-4498-ed0b-e12c7a176d50"
      },
      "execution_count": null,
      "outputs": [
        {
          "output_type": "stream",
          "name": "stdout",
          "text": [
            "VIF:\n",
            "        feature        VIF\n",
            "0        const  39.260163\n",
            "1       budget   1.376874\n",
            "2  FilmCritics   1.155352\n",
            "3   star_power   1.309966\n",
            "4  dummy_drama   1.302034\n",
            "5       sequel   1.350433\n",
            "6       season   1.072215\n",
            "7      weekend   1.046479\n"
          ]
        }
      ]
    },
    {
      "cell_type": "code",
      "source": [],
      "metadata": {
        "id": "0Ch-n-Ohh-DQ"
      },
      "execution_count": null,
      "outputs": []
    },
    {
      "cell_type": "markdown",
      "source": [
        "Проверим еще раз выбросы\n",
        "1. Стюдентизированные остатки"
      ],
      "metadata": {
        "id": "cSL_KoYaiY_1"
      }
    },
    {
      "cell_type": "code",
      "source": [
        "influence = model_2.get_influence()\n",
        "inf_sum = influence.summary_frame()\n",
        "\n",
        "outliers = inf_sum[inf_sum['student_resid'] > 3]\n",
        "outliers_index = outliers.index\n",
        "print(outliers_index)"
      ],
      "metadata": {
        "colab": {
          "base_uri": "https://localhost:8080/"
        },
        "id": "t0Z0dHVnh-KM",
        "outputId": "668419c2-8346-4f5f-fbce-7667ede4333e"
      },
      "execution_count": null,
      "outputs": [
        {
          "output_type": "stream",
          "name": "stdout",
          "text": [
            "Index([72, 81, 87], dtype='int64')\n"
          ]
        }
      ]
    },
    {
      "cell_type": "markdown",
      "source": [
        "2. Точки левериджа"
      ],
      "metadata": {
        "id": "BqzHHrvJix0C"
      }
    },
    {
      "cell_type": "code",
      "source": [
        "leverage = influence.hat_matrix_diag\n",
        "cutoff_leverage = (2*8)/116 # Определим пороговое значение для точек левериджа: 2*k/n\n",
        "high_leverage = pd.DataFrame(([abs(leverage) > cutoff_leverage])).T\n",
        "high_leverage = leverage > cutoff_leverage"
      ],
      "metadata": {
        "id": "Bvt7Rw3jiwjl"
      },
      "execution_count": null,
      "outputs": []
    },
    {
      "cell_type": "code",
      "source": [
        "# Создаем чистый датафрейм без выбросов\n",
        "df_clean = data[~high_leverage].copy()\n",
        "\n",
        "# Пересчитываем модель на очищенных данных\n",
        "X_clean = df_clean[['budget', 'FilmCritics', 'star_power', 'dummy_drama', 'sequel', 'season', 'weekend']]\n",
        "X_clean = sm.add_constant(X_clean)\n",
        "y_clean = df_clean['box_office']\n",
        "\n",
        "model_clean = sm.OLS(y_clean, X_clean).fit(cov_type='HC3')\n",
        "print(model_clean.summary())"
      ],
      "metadata": {
        "colab": {
          "base_uri": "https://localhost:8080/"
        },
        "id": "0dZ7RfYKiwqW",
        "outputId": "91481b8c-56bf-45d4-b523-480198429331"
      },
      "execution_count": null,
      "outputs": [
        {
          "output_type": "stream",
          "name": "stdout",
          "text": [
            "                            OLS Regression Results                            \n",
            "==============================================================================\n",
            "Dep. Variable:             box_office   R-squared:                       0.582\n",
            "Model:                            OLS   Adj. R-squared:                  0.558\n",
            "Method:                 Least Squares   F-statistic:                     5.380\n",
            "Date:                Wed, 07 May 2025   Prob (F-statistic):           0.000194\n",
            "Time:                        21:20:39   Log-Likelihood:                -2256.5\n",
            "No. Observations:                 111   AIC:                             4527.\n",
            "Df Residuals:                     104   BIC:                             4546.\n",
            "Df Model:                           6                                         \n",
            "Covariance Type:                  HC3                                         \n",
            "===============================================================================\n",
            "                  coef    std err          z      P>|z|      [0.025      0.975]\n",
            "-------------------------------------------------------------------------------\n",
            "const       -2.859e+08   1.17e+08     -2.447      0.014   -5.15e+08   -5.69e+07\n",
            "budget          1.8790      0.281      6.689      0.000       1.328       2.430\n",
            "FilmCritics  4.226e+07   1.47e+07      2.880      0.004    1.35e+07     7.1e+07\n",
            "star_power  -4.564e+07   3.06e+07     -1.493      0.135   -1.06e+08    1.43e+07\n",
            "dummy_drama  1.677e+07   3.66e+07      0.458      0.647   -5.49e+07    8.85e+07\n",
            "sequel       1.711e+08   3.97e+07      4.312      0.000    9.33e+07    2.49e+08\n",
            "season       5.735e+07   3.94e+07      1.454      0.146      -2e+07    1.35e+08\n",
            "weekend              0          0        nan        nan           0           0\n",
            "==============================================================================\n",
            "Omnibus:                       52.145   Durbin-Watson:                   1.745\n",
            "Prob(Omnibus):                  0.000   Jarque-Bera (JB):              171.013\n",
            "Skew:                           1.675   Prob(JB):                     7.33e-38\n",
            "Kurtosis:                       8.075   Cond. No.                          inf\n",
            "==============================================================================\n",
            "\n",
            "Notes:\n",
            "[1] Standard Errors are heteroscedasticity robust (HC3)\n",
            "[2] The smallest eigenvalue is      0. This might indicate that there are\n",
            "strong multicollinearity problems or that the design matrix is singular.\n"
          ]
        },
        {
          "output_type": "stream",
          "name": "stderr",
          "text": [
            "/usr/local/lib/python3.11/dist-packages/statsmodels/regression/linear_model.py:1966: RuntimeWarning: divide by zero encountered in scalar divide\n",
            "  return np.sqrt(eigvals[0]/eigvals[-1])\n",
            "/usr/local/lib/python3.11/dist-packages/statsmodels/base/model.py:1894: ValueWarning: covariance of constraints does not have full rank. The number of constraints is 7, but rank is 5\n",
            "  warnings.warn('covariance of constraints does not have full '\n"
          ]
        }
      ]
    },
    {
      "cell_type": "markdown",
      "source": [
        "Проверим новый датафрейм, который образовался после удаления выбросов.\n"
      ],
      "metadata": {
        "id": "wJzVoLaAk2yU"
      }
    },
    {
      "cell_type": "code",
      "source": [
        "df_clean['weekend'].describe()"
      ],
      "metadata": {
        "colab": {
          "base_uri": "https://localhost:8080/",
          "height": 331
        },
        "id": "XsbtDsVoiwy4",
        "outputId": "4b26cbd2-2347-46d6-eb2c-24f8054a95a7"
      },
      "execution_count": null,
      "outputs": [
        {
          "output_type": "execute_result",
          "data": {
            "text/plain": [
              "count    111.0\n",
              "mean       0.0\n",
              "std        0.0\n",
              "min        0.0\n",
              "25%        0.0\n",
              "50%        0.0\n",
              "75%        0.0\n",
              "max        0.0\n",
              "Name: weekend, dtype: float64"
            ],
            "text/html": [
              "<div>\n",
              "<style scoped>\n",
              "    .dataframe tbody tr th:only-of-type {\n",
              "        vertical-align: middle;\n",
              "    }\n",
              "\n",
              "    .dataframe tbody tr th {\n",
              "        vertical-align: top;\n",
              "    }\n",
              "\n",
              "    .dataframe thead th {\n",
              "        text-align: right;\n",
              "    }\n",
              "</style>\n",
              "<table border=\"1\" class=\"dataframe\">\n",
              "  <thead>\n",
              "    <tr style=\"text-align: right;\">\n",
              "      <th></th>\n",
              "      <th>weekend</th>\n",
              "    </tr>\n",
              "  </thead>\n",
              "  <tbody>\n",
              "    <tr>\n",
              "      <th>count</th>\n",
              "      <td>111.0</td>\n",
              "    </tr>\n",
              "    <tr>\n",
              "      <th>mean</th>\n",
              "      <td>0.0</td>\n",
              "    </tr>\n",
              "    <tr>\n",
              "      <th>std</th>\n",
              "      <td>0.0</td>\n",
              "    </tr>\n",
              "    <tr>\n",
              "      <th>min</th>\n",
              "      <td>0.0</td>\n",
              "    </tr>\n",
              "    <tr>\n",
              "      <th>25%</th>\n",
              "      <td>0.0</td>\n",
              "    </tr>\n",
              "    <tr>\n",
              "      <th>50%</th>\n",
              "      <td>0.0</td>\n",
              "    </tr>\n",
              "    <tr>\n",
              "      <th>75%</th>\n",
              "      <td>0.0</td>\n",
              "    </tr>\n",
              "    <tr>\n",
              "      <th>max</th>\n",
              "      <td>0.0</td>\n",
              "    </tr>\n",
              "  </tbody>\n",
              "</table>\n",
              "</div><br><label><b>dtype:</b> float64</label>"
            ]
          },
          "metadata": {},
          "execution_count": 37
        }
      ]
    },
    {
      "cell_type": "markdown",
      "source": [
        "Так как после удаления выбросов не осталось положительных значений в выходных, то их необходимо удалить."
      ],
      "metadata": {
        "id": "x4wh2mwQlVSF"
      }
    },
    {
      "cell_type": "code",
      "source": [
        "# Удаляем 'weekend' (все значения = 0)\n",
        "X_clean = X.drop(['weekend'], axis=1)\n",
        "model_clean = sm.OLS(y, X_clean).fit(cov_type='HC3')\n",
        "print(model_clean.summary())"
      ],
      "metadata": {
        "colab": {
          "base_uri": "https://localhost:8080/",
          "height": 333
        },
        "id": "QZX76vmTiw7N",
        "outputId": "d43eadbd-fdbd-407d-c11f-7ff388896a39"
      },
      "execution_count": null,
      "outputs": [
        {
          "output_type": "error",
          "ename": "ValueError",
          "evalue": "The indices for endog and exog are not aligned",
          "traceback": [
            "\u001b[0;31m---------------------------------------------------------------------------\u001b[0m",
            "\u001b[0;31mValueError\u001b[0m                                Traceback (most recent call last)",
            "\u001b[0;32m<ipython-input-38-4180d93334a4>\u001b[0m in \u001b[0;36m<cell line: 0>\u001b[0;34m()\u001b[0m\n\u001b[1;32m      1\u001b[0m \u001b[0;31m# Удаляем 'weekend' (все значения = 0)\u001b[0m\u001b[0;34m\u001b[0m\u001b[0;34m\u001b[0m\u001b[0m\n\u001b[1;32m      2\u001b[0m \u001b[0mX_clean\u001b[0m \u001b[0;34m=\u001b[0m \u001b[0mX\u001b[0m\u001b[0;34m.\u001b[0m\u001b[0mdrop\u001b[0m\u001b[0;34m(\u001b[0m\u001b[0;34m[\u001b[0m\u001b[0;34m'weekend'\u001b[0m\u001b[0;34m]\u001b[0m\u001b[0;34m,\u001b[0m \u001b[0maxis\u001b[0m\u001b[0;34m=\u001b[0m\u001b[0;36m1\u001b[0m\u001b[0;34m)\u001b[0m\u001b[0;34m\u001b[0m\u001b[0;34m\u001b[0m\u001b[0m\n\u001b[0;32m----> 3\u001b[0;31m \u001b[0mmodel_clean\u001b[0m \u001b[0;34m=\u001b[0m \u001b[0msm\u001b[0m\u001b[0;34m.\u001b[0m\u001b[0mOLS\u001b[0m\u001b[0;34m(\u001b[0m\u001b[0my\u001b[0m\u001b[0;34m,\u001b[0m \u001b[0mX_clean\u001b[0m\u001b[0;34m)\u001b[0m\u001b[0;34m.\u001b[0m\u001b[0mfit\u001b[0m\u001b[0;34m(\u001b[0m\u001b[0mcov_type\u001b[0m\u001b[0;34m=\u001b[0m\u001b[0;34m'HC3'\u001b[0m\u001b[0;34m)\u001b[0m\u001b[0;34m\u001b[0m\u001b[0;34m\u001b[0m\u001b[0m\n\u001b[0m\u001b[1;32m      4\u001b[0m \u001b[0mprint\u001b[0m\u001b[0;34m(\u001b[0m\u001b[0mmodel_clean\u001b[0m\u001b[0;34m.\u001b[0m\u001b[0msummary\u001b[0m\u001b[0;34m(\u001b[0m\u001b[0;34m)\u001b[0m\u001b[0;34m)\u001b[0m\u001b[0;34m\u001b[0m\u001b[0;34m\u001b[0m\u001b[0m\n",
            "\u001b[0;32m/usr/local/lib/python3.11/dist-packages/statsmodels/regression/linear_model.py\u001b[0m in \u001b[0;36m__init__\u001b[0;34m(self, endog, exog, missing, hasconst, **kwargs)\u001b[0m\n\u001b[1;32m    919\u001b[0m                    \"An exception will be raised in the next version.\")\n\u001b[1;32m    920\u001b[0m             \u001b[0mwarnings\u001b[0m\u001b[0;34m.\u001b[0m\u001b[0mwarn\u001b[0m\u001b[0;34m(\u001b[0m\u001b[0mmsg\u001b[0m\u001b[0;34m,\u001b[0m \u001b[0mValueWarning\u001b[0m\u001b[0;34m)\u001b[0m\u001b[0;34m\u001b[0m\u001b[0;34m\u001b[0m\u001b[0m\n\u001b[0;32m--> 921\u001b[0;31m         super().__init__(endog, exog, missing=missing,\n\u001b[0m\u001b[1;32m    922\u001b[0m                                   hasconst=hasconst, **kwargs)\n\u001b[1;32m    923\u001b[0m         \u001b[0;32mif\u001b[0m \u001b[0;34m\"weights\"\u001b[0m \u001b[0;32min\u001b[0m \u001b[0mself\u001b[0m\u001b[0;34m.\u001b[0m\u001b[0m_init_keys\u001b[0m\u001b[0;34m:\u001b[0m\u001b[0;34m\u001b[0m\u001b[0;34m\u001b[0m\u001b[0m\n",
            "\u001b[0;32m/usr/local/lib/python3.11/dist-packages/statsmodels/regression/linear_model.py\u001b[0m in \u001b[0;36m__init__\u001b[0;34m(self, endog, exog, weights, missing, hasconst, **kwargs)\u001b[0m\n\u001b[1;32m    744\u001b[0m         \u001b[0;32melse\u001b[0m\u001b[0;34m:\u001b[0m\u001b[0;34m\u001b[0m\u001b[0;34m\u001b[0m\u001b[0m\n\u001b[1;32m    745\u001b[0m             \u001b[0mweights\u001b[0m \u001b[0;34m=\u001b[0m \u001b[0mweights\u001b[0m\u001b[0;34m.\u001b[0m\u001b[0msqueeze\u001b[0m\u001b[0;34m(\u001b[0m\u001b[0;34m)\u001b[0m\u001b[0;34m\u001b[0m\u001b[0;34m\u001b[0m\u001b[0m\n\u001b[0;32m--> 746\u001b[0;31m         super().__init__(endog, exog, missing=missing,\n\u001b[0m\u001b[1;32m    747\u001b[0m                                   weights=weights, hasconst=hasconst, **kwargs)\n\u001b[1;32m    748\u001b[0m         \u001b[0mnobs\u001b[0m \u001b[0;34m=\u001b[0m \u001b[0mself\u001b[0m\u001b[0;34m.\u001b[0m\u001b[0mexog\u001b[0m\u001b[0;34m.\u001b[0m\u001b[0mshape\u001b[0m\u001b[0;34m[\u001b[0m\u001b[0;36m0\u001b[0m\u001b[0;34m]\u001b[0m\u001b[0;34m\u001b[0m\u001b[0;34m\u001b[0m\u001b[0m\n",
            "\u001b[0;32m/usr/local/lib/python3.11/dist-packages/statsmodels/regression/linear_model.py\u001b[0m in \u001b[0;36m__init__\u001b[0;34m(self, endog, exog, **kwargs)\u001b[0m\n\u001b[1;32m    198\u001b[0m     \"\"\"\n\u001b[1;32m    199\u001b[0m     \u001b[0;32mdef\u001b[0m \u001b[0m__init__\u001b[0m\u001b[0;34m(\u001b[0m\u001b[0mself\u001b[0m\u001b[0;34m,\u001b[0m \u001b[0mendog\u001b[0m\u001b[0;34m,\u001b[0m \u001b[0mexog\u001b[0m\u001b[0;34m,\u001b[0m \u001b[0;34m**\u001b[0m\u001b[0mkwargs\u001b[0m\u001b[0;34m)\u001b[0m\u001b[0;34m:\u001b[0m\u001b[0;34m\u001b[0m\u001b[0;34m\u001b[0m\u001b[0m\n\u001b[0;32m--> 200\u001b[0;31m         \u001b[0msuper\u001b[0m\u001b[0;34m(\u001b[0m\u001b[0;34m)\u001b[0m\u001b[0;34m.\u001b[0m\u001b[0m__init__\u001b[0m\u001b[0;34m(\u001b[0m\u001b[0mendog\u001b[0m\u001b[0;34m,\u001b[0m \u001b[0mexog\u001b[0m\u001b[0;34m,\u001b[0m \u001b[0;34m**\u001b[0m\u001b[0mkwargs\u001b[0m\u001b[0;34m)\u001b[0m\u001b[0;34m\u001b[0m\u001b[0;34m\u001b[0m\u001b[0m\n\u001b[0m\u001b[1;32m    201\u001b[0m         \u001b[0mself\u001b[0m\u001b[0;34m.\u001b[0m\u001b[0mpinv_wexog\u001b[0m\u001b[0;34m:\u001b[0m \u001b[0mFloat64Array\u001b[0m \u001b[0;34m|\u001b[0m \u001b[0;32mNone\u001b[0m \u001b[0;34m=\u001b[0m \u001b[0;32mNone\u001b[0m\u001b[0;34m\u001b[0m\u001b[0;34m\u001b[0m\u001b[0m\n\u001b[1;32m    202\u001b[0m         \u001b[0mself\u001b[0m\u001b[0;34m.\u001b[0m\u001b[0m_data_attr\u001b[0m\u001b[0;34m.\u001b[0m\u001b[0mextend\u001b[0m\u001b[0;34m(\u001b[0m\u001b[0;34m[\u001b[0m\u001b[0;34m'pinv_wexog'\u001b[0m\u001b[0;34m,\u001b[0m \u001b[0;34m'wendog'\u001b[0m\u001b[0;34m,\u001b[0m \u001b[0;34m'wexog'\u001b[0m\u001b[0;34m,\u001b[0m \u001b[0;34m'weights'\u001b[0m\u001b[0;34m]\u001b[0m\u001b[0;34m)\u001b[0m\u001b[0;34m\u001b[0m\u001b[0;34m\u001b[0m\u001b[0m\n",
            "\u001b[0;32m/usr/local/lib/python3.11/dist-packages/statsmodels/base/model.py\u001b[0m in \u001b[0;36m__init__\u001b[0;34m(self, endog, exog, **kwargs)\u001b[0m\n\u001b[1;32m    268\u001b[0m \u001b[0;34m\u001b[0m\u001b[0m\n\u001b[1;32m    269\u001b[0m     \u001b[0;32mdef\u001b[0m \u001b[0m__init__\u001b[0m\u001b[0;34m(\u001b[0m\u001b[0mself\u001b[0m\u001b[0;34m,\u001b[0m \u001b[0mendog\u001b[0m\u001b[0;34m,\u001b[0m \u001b[0mexog\u001b[0m\u001b[0;34m=\u001b[0m\u001b[0;32mNone\u001b[0m\u001b[0;34m,\u001b[0m \u001b[0;34m**\u001b[0m\u001b[0mkwargs\u001b[0m\u001b[0;34m)\u001b[0m\u001b[0;34m:\u001b[0m\u001b[0;34m\u001b[0m\u001b[0;34m\u001b[0m\u001b[0m\n\u001b[0;32m--> 270\u001b[0;31m         \u001b[0msuper\u001b[0m\u001b[0;34m(\u001b[0m\u001b[0;34m)\u001b[0m\u001b[0;34m.\u001b[0m\u001b[0m__init__\u001b[0m\u001b[0;34m(\u001b[0m\u001b[0mendog\u001b[0m\u001b[0;34m,\u001b[0m \u001b[0mexog\u001b[0m\u001b[0;34m,\u001b[0m \u001b[0;34m**\u001b[0m\u001b[0mkwargs\u001b[0m\u001b[0;34m)\u001b[0m\u001b[0;34m\u001b[0m\u001b[0;34m\u001b[0m\u001b[0m\n\u001b[0m\u001b[1;32m    271\u001b[0m         \u001b[0mself\u001b[0m\u001b[0;34m.\u001b[0m\u001b[0minitialize\u001b[0m\u001b[0;34m(\u001b[0m\u001b[0;34m)\u001b[0m\u001b[0;34m\u001b[0m\u001b[0;34m\u001b[0m\u001b[0m\n\u001b[1;32m    272\u001b[0m \u001b[0;34m\u001b[0m\u001b[0m\n",
            "\u001b[0;32m/usr/local/lib/python3.11/dist-packages/statsmodels/base/model.py\u001b[0m in \u001b[0;36m__init__\u001b[0;34m(self, endog, exog, **kwargs)\u001b[0m\n\u001b[1;32m     93\u001b[0m         \u001b[0mmissing\u001b[0m \u001b[0;34m=\u001b[0m \u001b[0mkwargs\u001b[0m\u001b[0;34m.\u001b[0m\u001b[0mpop\u001b[0m\u001b[0;34m(\u001b[0m\u001b[0;34m'missing'\u001b[0m\u001b[0;34m,\u001b[0m \u001b[0;34m'none'\u001b[0m\u001b[0;34m)\u001b[0m\u001b[0;34m\u001b[0m\u001b[0;34m\u001b[0m\u001b[0m\n\u001b[1;32m     94\u001b[0m         \u001b[0mhasconst\u001b[0m \u001b[0;34m=\u001b[0m \u001b[0mkwargs\u001b[0m\u001b[0;34m.\u001b[0m\u001b[0mpop\u001b[0m\u001b[0;34m(\u001b[0m\u001b[0;34m'hasconst'\u001b[0m\u001b[0;34m,\u001b[0m \u001b[0;32mNone\u001b[0m\u001b[0;34m)\u001b[0m\u001b[0;34m\u001b[0m\u001b[0;34m\u001b[0m\u001b[0m\n\u001b[0;32m---> 95\u001b[0;31m         self.data = self._handle_data(endog, exog, missing, hasconst,\n\u001b[0m\u001b[1;32m     96\u001b[0m                                       **kwargs)\n\u001b[1;32m     97\u001b[0m         \u001b[0mself\u001b[0m\u001b[0;34m.\u001b[0m\u001b[0mk_constant\u001b[0m \u001b[0;34m=\u001b[0m \u001b[0mself\u001b[0m\u001b[0;34m.\u001b[0m\u001b[0mdata\u001b[0m\u001b[0;34m.\u001b[0m\u001b[0mk_constant\u001b[0m\u001b[0;34m\u001b[0m\u001b[0;34m\u001b[0m\u001b[0m\n",
            "\u001b[0;32m/usr/local/lib/python3.11/dist-packages/statsmodels/base/model.py\u001b[0m in \u001b[0;36m_handle_data\u001b[0;34m(self, endog, exog, missing, hasconst, **kwargs)\u001b[0m\n\u001b[1;32m    133\u001b[0m \u001b[0;34m\u001b[0m\u001b[0m\n\u001b[1;32m    134\u001b[0m     \u001b[0;32mdef\u001b[0m \u001b[0m_handle_data\u001b[0m\u001b[0;34m(\u001b[0m\u001b[0mself\u001b[0m\u001b[0;34m,\u001b[0m \u001b[0mendog\u001b[0m\u001b[0;34m,\u001b[0m \u001b[0mexog\u001b[0m\u001b[0;34m,\u001b[0m \u001b[0mmissing\u001b[0m\u001b[0;34m,\u001b[0m \u001b[0mhasconst\u001b[0m\u001b[0;34m,\u001b[0m \u001b[0;34m**\u001b[0m\u001b[0mkwargs\u001b[0m\u001b[0;34m)\u001b[0m\u001b[0;34m:\u001b[0m\u001b[0;34m\u001b[0m\u001b[0;34m\u001b[0m\u001b[0m\n\u001b[0;32m--> 135\u001b[0;31m         \u001b[0mdata\u001b[0m \u001b[0;34m=\u001b[0m \u001b[0mhandle_data\u001b[0m\u001b[0;34m(\u001b[0m\u001b[0mendog\u001b[0m\u001b[0;34m,\u001b[0m \u001b[0mexog\u001b[0m\u001b[0;34m,\u001b[0m \u001b[0mmissing\u001b[0m\u001b[0;34m,\u001b[0m \u001b[0mhasconst\u001b[0m\u001b[0;34m,\u001b[0m \u001b[0;34m**\u001b[0m\u001b[0mkwargs\u001b[0m\u001b[0;34m)\u001b[0m\u001b[0;34m\u001b[0m\u001b[0;34m\u001b[0m\u001b[0m\n\u001b[0m\u001b[1;32m    136\u001b[0m         \u001b[0;31m# kwargs arrays could have changed, easier to just attach here\u001b[0m\u001b[0;34m\u001b[0m\u001b[0;34m\u001b[0m\u001b[0m\n\u001b[1;32m    137\u001b[0m         \u001b[0;32mfor\u001b[0m \u001b[0mkey\u001b[0m \u001b[0;32min\u001b[0m \u001b[0mkwargs\u001b[0m\u001b[0;34m:\u001b[0m\u001b[0;34m\u001b[0m\u001b[0;34m\u001b[0m\u001b[0m\n",
            "\u001b[0;32m/usr/local/lib/python3.11/dist-packages/statsmodels/base/data.py\u001b[0m in \u001b[0;36mhandle_data\u001b[0;34m(endog, exog, missing, hasconst, **kwargs)\u001b[0m\n\u001b[1;32m    673\u001b[0m \u001b[0;34m\u001b[0m\u001b[0m\n\u001b[1;32m    674\u001b[0m     \u001b[0mklass\u001b[0m \u001b[0;34m=\u001b[0m \u001b[0mhandle_data_class_factory\u001b[0m\u001b[0;34m(\u001b[0m\u001b[0mendog\u001b[0m\u001b[0;34m,\u001b[0m \u001b[0mexog\u001b[0m\u001b[0;34m)\u001b[0m\u001b[0;34m\u001b[0m\u001b[0;34m\u001b[0m\u001b[0m\n\u001b[0;32m--> 675\u001b[0;31m     return klass(endog, exog=exog, missing=missing, hasconst=hasconst,\n\u001b[0m\u001b[1;32m    676\u001b[0m                  **kwargs)\n",
            "\u001b[0;32m/usr/local/lib/python3.11/dist-packages/statsmodels/base/data.py\u001b[0m in \u001b[0;36m__init__\u001b[0;34m(self, endog, exog, missing, hasconst, **kwargs)\u001b[0m\n\u001b[1;32m     87\u001b[0m         \u001b[0mself\u001b[0m\u001b[0;34m.\u001b[0m\u001b[0mk_constant\u001b[0m \u001b[0;34m=\u001b[0m \u001b[0;36m0\u001b[0m\u001b[0;34m\u001b[0m\u001b[0;34m\u001b[0m\u001b[0m\n\u001b[1;32m     88\u001b[0m         \u001b[0mself\u001b[0m\u001b[0;34m.\u001b[0m\u001b[0m_handle_constant\u001b[0m\u001b[0;34m(\u001b[0m\u001b[0mhasconst\u001b[0m\u001b[0;34m)\u001b[0m\u001b[0;34m\u001b[0m\u001b[0;34m\u001b[0m\u001b[0m\n\u001b[0;32m---> 89\u001b[0;31m         \u001b[0mself\u001b[0m\u001b[0;34m.\u001b[0m\u001b[0m_check_integrity\u001b[0m\u001b[0;34m(\u001b[0m\u001b[0;34m)\u001b[0m\u001b[0;34m\u001b[0m\u001b[0;34m\u001b[0m\u001b[0m\n\u001b[0m\u001b[1;32m     90\u001b[0m         \u001b[0mself\u001b[0m\u001b[0;34m.\u001b[0m\u001b[0m_cache\u001b[0m \u001b[0;34m=\u001b[0m \u001b[0;34m{\u001b[0m\u001b[0;34m}\u001b[0m\u001b[0;34m\u001b[0m\u001b[0;34m\u001b[0m\u001b[0m\n\u001b[1;32m     91\u001b[0m \u001b[0;34m\u001b[0m\u001b[0m\n",
            "\u001b[0;32m/usr/local/lib/python3.11/dist-packages/statsmodels/base/data.py\u001b[0m in \u001b[0;36m_check_integrity\u001b[0;34m(self)\u001b[0m\n\u001b[1;32m    531\u001b[0m                 \u001b[0;34m(\u001b[0m\u001b[0mhasattr\u001b[0m\u001b[0;34m(\u001b[0m\u001b[0mendog\u001b[0m\u001b[0;34m,\u001b[0m \u001b[0;34m'index'\u001b[0m\u001b[0;34m)\u001b[0m \u001b[0;32mand\u001b[0m \u001b[0mhasattr\u001b[0m\u001b[0;34m(\u001b[0m\u001b[0mexog\u001b[0m\u001b[0;34m,\u001b[0m \u001b[0;34m'index'\u001b[0m\u001b[0;34m)\u001b[0m\u001b[0;34m)\u001b[0m \u001b[0;32mand\u001b[0m\u001b[0;34m\u001b[0m\u001b[0;34m\u001b[0m\u001b[0m\n\u001b[1;32m    532\u001b[0m                 not self.orig_endog.index.equals(self.orig_exog.index)):\n\u001b[0;32m--> 533\u001b[0;31m             \u001b[0;32mraise\u001b[0m \u001b[0mValueError\u001b[0m\u001b[0;34m(\u001b[0m\u001b[0;34m\"The indices for endog and exog are not aligned\"\u001b[0m\u001b[0;34m)\u001b[0m\u001b[0;34m\u001b[0m\u001b[0;34m\u001b[0m\u001b[0m\n\u001b[0m\u001b[1;32m    534\u001b[0m         \u001b[0msuper\u001b[0m\u001b[0;34m(\u001b[0m\u001b[0;34m)\u001b[0m\u001b[0;34m.\u001b[0m\u001b[0m_check_integrity\u001b[0m\u001b[0;34m(\u001b[0m\u001b[0;34m)\u001b[0m\u001b[0;34m\u001b[0m\u001b[0;34m\u001b[0m\u001b[0m\n\u001b[1;32m    535\u001b[0m \u001b[0;34m\u001b[0m\u001b[0m\n",
            "\u001b[0;31mValueError\u001b[0m: The indices for endog and exog are not aligned"
          ]
        }
      ]
    },
    {
      "cell_type": "code",
      "source": [],
      "metadata": {
        "id": "q7kSjUatixHA"
      },
      "execution_count": null,
      "outputs": []
    },
    {
      "cell_type": "code",
      "source": [],
      "metadata": {
        "id": "o_1WLc2Hh-RW"
      },
      "execution_count": null,
      "outputs": []
    },
    {
      "cell_type": "markdown",
      "source": [
        "### 2.3 Пробуем изменить функциональную форму\n",
        "Для избавления от гетероскедастичности попробуем прологарифмировать кассовые сборы"
      ],
      "metadata": {
        "id": "Ztp_ze1INoDr"
      }
    },
    {
      "cell_type": "code",
      "source": [
        "# 1. Подготовка данных\n",
        "X = data[['budget', 'FilmCritics', 'star_power', 'dummy_drama', 'sequel', 'season', 'weekend']].copy()\n",
        "y = data['box_office'].copy()\n",
        "\n",
        "# 2. Логарифмирование с обработкой нулей и отрицательных значений\n",
        "y_log = np.log(y.replace(0, np.nan))  # Замена нулей на NaN перед логарифмированием\n",
        "\n",
        "X_clean = sm.add_constant(X)\n",
        "model_log = sm.OLS(y_log, X_clean).fit()\n",
        "print(model_log.summary())"
      ],
      "metadata": {
        "id": "AjTfJa2LdzNn"
      },
      "execution_count": null,
      "outputs": []
    },
    {
      "cell_type": "markdown",
      "source": [
        "Пропробуем прологарифмировать кассовые сборы и бюджет"
      ],
      "metadata": {
        "id": "--VAiXiLfGC2"
      }
    },
    {
      "cell_type": "code",
      "source": [
        "# Логарифмируем переменные (добавляем малую константу для избежания log(0))\n",
        "data['log_box_office'] = np.log(data['box_office'] + 1)\n",
        "data['log_budget'] = np.log(data['budget'] + 1)\n",
        "\n",
        "# 2. Спецификация модели\n",
        "X_log = data[['log_budget', 'FilmCritics', 'star_power', 'dummy_drama', 'sequel', 'season', 'weekend']]\n",
        "X_log = sm.add_constant(X_log)  # Добавляем константу\n",
        "y_log = data['log_box_office']\n",
        "\n",
        "# 3. Построение модели\n",
        "model_log = sm.OLS(y_log, X_log).fit(cov_type='HC3')\n",
        "print(model_log.summary())"
      ],
      "metadata": {
        "id": "GggrIP7NfEy3"
      },
      "execution_count": null,
      "outputs": []
    },
    {
      "cell_type": "markdown",
      "source": [
        "В этой модели четко видна убывающая отдача от бюджета"
      ],
      "metadata": {
        "id": "_VGFZ8kBPkus"
      }
    },
    {
      "cell_type": "markdown",
      "source": [
        "### 2.4 Взвешенный МНК для МНК из статьи УДАЛИТЬ!!!!!"
      ],
      "metadata": {
        "id": "DvrgvP_j0upt"
      }
    },
    {
      "cell_type": "code",
      "source": [
        "# Взвешенный МНК\n",
        "\n",
        "# Расчет весов с защитой от ошибок\n",
        "# На основе остатков\n",
        "weights = 1/(0.1 + np.abs(model_2.resid))\n",
        "\n",
        "#Взвешенная регрессия\n",
        "model_wls = sm.WLS(y, sm.add_constant(X_2), weights=weights).fit(cov_type='HC3')\n",
        "print(model_wls.summary())"
      ],
      "metadata": {
        "id": "GohsEt5xdzYW"
      },
      "execution_count": null,
      "outputs": []
    },
    {
      "cell_type": "code",
      "source": [
        "vif_data = pd.DataFrame()\n",
        "vif_data[\"feature\"] = X_2.columns\n",
        "vif_data[\"VIF\"] = [variance_inflation_factor(X_2.values, i) for i in range(X_2.shape[1])]\n",
        "\n",
        "print(\"VIF:\\n\", vif_data)"
      ],
      "metadata": {
        "id": "YhAk-2ksRT0i"
      },
      "execution_count": null,
      "outputs": []
    },
    {
      "cell_type": "code",
      "source": [
        "print(-2.752e+08)"
      ],
      "metadata": {
        "id": "voBE7DVvRhoK"
      },
      "execution_count": null,
      "outputs": []
    },
    {
      "cell_type": "markdown",
      "source": [
        "### Попробуем стандартизировать регрессоры, чтобы избавиться от вырожденной матрицы."
      ],
      "metadata": {
        "id": "54rqLm0h0ZD0"
      }
    },
    {
      "cell_type": "code",
      "source": [
        "from sklearn.preprocessing import StandardScaler\n",
        "# Стандартизируем факторы\n",
        "x_scaled = StandardScaler().fit_transform(X_2)\n",
        "model = sm.WLS(y, x_scaled)  # создаем модель Взвешенного МНК (пока без весов)\n",
        "\n",
        "# Расчет весов с защитой от ошибок (чтобы избежать деления на 0)\n",
        "# На основе остатков от обычной OLS модели\n",
        "model_ols = sm.OLS(y, x_scaled).fit()  # сначала строим обычную OLS модель\n",
        "weights = 1/(0.1 + np.abs(model_ols.resid))  # добавляем 0.1 для устойчивости\n",
        "\n",
        "# Пересоздаем взвешенную модель с вычисленными весами\n",
        "model_wls_2 = sm.WLS(y, sm.add_constant(x_scaled), weights=weights).fit(cov_type='HC3')\n",
        "print(model_wls_2.summary())"
      ],
      "metadata": {
        "id": "o3XfB6-4u5iy"
      },
      "execution_count": null,
      "outputs": []
    },
    {
      "cell_type": "code",
      "source": [],
      "metadata": {
        "id": "dKT-VhClu5pr"
      },
      "execution_count": null,
      "outputs": []
    },
    {
      "cell_type": "code",
      "source": [],
      "metadata": {
        "id": "jZADvHn8fA60"
      },
      "execution_count": null,
      "outputs": []
    },
    {
      "cell_type": "code",
      "source": [],
      "metadata": {
        "id": "kO0QAmHMfBFb"
      },
      "execution_count": null,
      "outputs": []
    },
    {
      "cell_type": "code",
      "source": [],
      "metadata": {
        "id": "j68NWYMefBOd"
      },
      "execution_count": null,
      "outputs": []
    },
    {
      "cell_type": "code",
      "source": [],
      "metadata": {
        "id": "5RteLX-ffBgu"
      },
      "execution_count": null,
      "outputs": []
    },
    {
      "cell_type": "code",
      "source": [],
      "metadata": {
        "id": "ww1CaOMpfBvE"
      },
      "execution_count": null,
      "outputs": []
    },
    {
      "cell_type": "code",
      "source": [],
      "metadata": {
        "id": "ykhrskbHu5v9"
      },
      "execution_count": null,
      "outputs": []
    },
    {
      "cell_type": "markdown",
      "source": [
        " ### 2.5 Оценим вторую модель из статьи, которая включает перекрестную переменную"
      ],
      "metadata": {
        "id": "an-6Q1_oUTDn"
      }
    },
    {
      "cell_type": "code",
      "source": [
        "#Включение Interaction Variable\n",
        "data['B*C'] = data['budget'] * data['FilmCritics']"
      ],
      "metadata": {
        "id": "EdAqzFJiSowp"
      },
      "execution_count": null,
      "outputs": []
    },
    {
      "cell_type": "code",
      "source": [
        "# МНК оценка с включеной переменной\n",
        "X_BC = data[['budget', 'FilmCritics', 'star_power', 'dummy_drama', 'sequel', 'season', 'weekend', 'B*C']]\n",
        "y = data['box_office']\n",
        "\n",
        "X_BC = sm.add_constant(X_BC)\n",
        "model_BC = sm.OLS(y, X_BC).fit(cov_type='HC3')\n",
        "print(model_BC.summary())"
      ],
      "metadata": {
        "id": "W2JPEKv9So55"
      },
      "execution_count": null,
      "outputs": []
    },
    {
      "cell_type": "code",
      "source": [
        "vif_data = pd.DataFrame()\n",
        "vif_data[\"Variable\"] = X_BC.columns  # X — матрица предикторов\n",
        "vif_data[\"VIF\"] = [variance_inflation_factor(X_BC.values, i) for i in range(X_BC.shape[1])]\n",
        "print(vif_data)"
      ],
      "metadata": {
        "id": "cumQOIirUp4o"
      },
      "execution_count": null,
      "outputs": []
    },
    {
      "cell_type": "markdown",
      "source": [
        "В модели появилась сильная мультиколлениарность, которую нужно попытаться исключить. Попробуем центрировать данные.\n"
      ],
      "metadata": {
        "id": "vamM8pUuUjx9"
      }
    },
    {
      "cell_type": "code",
      "source": [
        "data['budget_centered'] = data['budget'] - data['budget'].mean()\n",
        "data['FilmCritics_centered'] = data['FilmCritics'] - data['FilmCritics'].mean()\n",
        "data['B*C_2'] = data['budget_centered'] * data['FilmCritics_centered']"
      ],
      "metadata": {
        "id": "aG-y6mbgUi_y"
      },
      "execution_count": null,
      "outputs": []
    },
    {
      "cell_type": "code",
      "source": [
        "# МНК оценка с включеной переменной\n",
        "X_BC = data[['budget', 'FilmCritics', 'star_power', 'dummy_drama', 'sequel', 'season', 'weekend', 'B*C_2']]\n",
        "y = data['box_office']\n",
        "\n",
        "X_BC = sm.add_constant(X_BC)\n",
        "model_BC = sm.OLS(y, X_BC).fit(cov_type='HC3')\n",
        "print(model_BC.summary())"
      ],
      "metadata": {
        "id": "Pp-w0EjpUjIE"
      },
      "execution_count": null,
      "outputs": []
    },
    {
      "cell_type": "code",
      "source": [
        "vif_data = pd.DataFrame()\n",
        "vif_data[\"Variable\"] = X_BC.columns  # X — матрица предикторов\n",
        "vif_data[\"VIF\"] = [variance_inflation_factor(X_BC.values, i) for i in range(X_BC.shape[1])]\n",
        "print(vif_data)"
      ],
      "metadata": {
        "id": "8UxZJB2nUjTl"
      },
      "execution_count": null,
      "outputs": []
    },
    {
      "cell_type": "markdown",
      "source": [
        "Заметим, что от мультиколениарности удалось избавиться."
      ],
      "metadata": {
        "id": "esCvQOniV0Bi"
      }
    },
    {
      "cell_type": "markdown",
      "source": [
        "## 2.6 Оценка регрессии с дополнительными факторами\n",
        "\n",
        "При построении этой регрессии было принято решение включить зрительскую оценку, дамми-переменную на инклюзивность кинолент и некоторые жанры, которые были упомянуты в статье. В дальнейшем будет оценено несколько моделей для выбора наилучшей.\n"
      ],
      "metadata": {
        "id": "CyLoMLD3_TcP"
      }
    },
    {
      "cell_type": "code",
      "source": [
        "#Обычная МНК модель\n",
        "X_our = data[['budget', 'FilmCritics', 'ratingKinopoisk', 'Length', 'sequel', 'season', 'weekend', 'SJW','star_power', 'action movie', 'comedy', 'drama']]\n",
        "y_our = data['box_office']\n",
        "X_our = sm.add_constant(X_our)\n",
        "\n",
        "model_our_1 = sm.OLS(y_our, X_our).fit(cov_type='HC3')\n",
        "print(model_our_1.summary())"
      ],
      "metadata": {
        "id": "Mh1Pdo7ju6IY"
      },
      "execution_count": null,
      "outputs": []
    },
    {
      "cell_type": "code",
      "source": [
        "# Рассчет VIF для проверки мультиколениарности\n",
        "vif_data = pd.DataFrame()\n",
        "vif_data[\"feature\"] = X_our.columns\n",
        "vif_data[\"VIF\"] = [variance_inflation_factor(X_our.values, i) for i in range(X_our.shape[1])]\n",
        "\n",
        "print(\"VIF:\\n\", vif_data)"
      ],
      "metadata": {
        "id": "WwQ9V0cQV4Hz"
      },
      "execution_count": null,
      "outputs": []
    },
    {
      "cell_type": "markdown",
      "source": [
        "Мультиколениарности не обнаружено"
      ],
      "metadata": {
        "id": "aZ9112Q8b84v"
      }
    },
    {
      "cell_type": "code",
      "source": [
        "#Распределние остатков\n",
        "data['fitted'] = model_our_1.fittedvalues\n",
        "data['residuals'] = model_our_1.resid\n",
        "\n",
        "plt.figure(figsize=(5, 3))\n",
        "plt.scatter(data['fitted'], data['residuals'], alpha=0.5)\n",
        "plt.axhline(y=0, color='r', linestyle='--')\n",
        "plt.title('График Остатки–Прогнозы')\n",
        "plt.xlabel('Предсказанные значения')\n",
        "plt.ylabel('Остатки')\n",
        "plt.grid()\n",
        "plt.show()"
      ],
      "metadata": {
        "id": "YxT3xVNOV4O8"
      },
      "execution_count": null,
      "outputs": []
    },
    {
      "cell_type": "markdown",
      "source": [
        "Судя по графику в модели есть ненормальные остатки, с которыми необходимо бороться (это подтверждается и значениями Jarque-Bera (JB)). Поэтому попробуем прологарифмировать сначала кассовые сборы, а потом кассовые сборы и бюджет."
      ],
      "metadata": {
        "id": "Xm_gHpfdc6oQ"
      }
    },
    {
      "cell_type": "code",
      "source": [
        "# Логарифмируем box_office и budget\n",
        "data['log_box_office'] = np.log(data['box_office'] + 1)\n",
        "data['log_budget'] = np.log(data['budget'] + 1)\n",
        "\n",
        "# Убираем незначимые переменные (например, 'comedy', 'drama')\n",
        "X_clean = X_our.drop(['comedy', 'drama', 'weekend'], axis=1)\n",
        "\n",
        "# Запускаем OLS\n",
        "model_final = sm.OLS(data['log_box_office'], X_clean).fit(cov_type='HC3')\n",
        "print(model_final.summary())"
      ],
      "metadata": {
        "id": "ixKi55mecHpc"
      },
      "execution_count": null,
      "outputs": []
    },
    {
      "cell_type": "code",
      "source": [],
      "metadata": {
        "id": "eVJDtU4PcH2X"
      },
      "execution_count": null,
      "outputs": []
    },
    {
      "cell_type": "code",
      "source": [],
      "metadata": {
        "id": "DEK3AVJ8RJyl"
      },
      "execution_count": null,
      "outputs": []
    },
    {
      "cell_type": "code",
      "source": [
        "X = data[['log_budget', 'FilmCritics', 'ratingKinopoisk', 'Length', 'sequel', 'season', 'weekend', 'SJW','star_power', 'action movie', 'comedy', 'drama']]\n",
        "X = sm.add_constant(X)\n",
        "y = data['log_box_office']\n",
        "model_log = sm.OLS(y, X).fit(cov_type='HC3')\n",
        "print(model_log.summary())"
      ],
      "metadata": {
        "id": "R0LGtVYURJ7B"
      },
      "execution_count": null,
      "outputs": []
    },
    {
      "cell_type": "code",
      "source": [],
      "metadata": {
        "id": "tKBjSlmqu6Pt"
      },
      "execution_count": null,
      "outputs": []
    },
    {
      "cell_type": "code",
      "source": [
        "from scipy.stats import boxcox\n",
        "data['box_office_bc'], _ = boxcox(data['box_office'] + 1)\n",
        "\n",
        "X = data[['log_budget', 'FilmCritics', 'ratingKinopoisk', 'Length', 'sequel', 'season', 'weekend', 'SJW','star_power', 'action movie', 'comedy', 'drama']]\n",
        "X = sm.add_constant(X)\n",
        "y = data['box_office_bc']\n",
        "model_log = sm.OLS(y, X).fit(cov_type='HC3')\n",
        "print(model_log.summary())"
      ],
      "metadata": {
        "id": "fw-CImIwe3sZ"
      },
      "execution_count": null,
      "outputs": []
    },
    {
      "cell_type": "code",
      "source": [
        "from scipy.stats import boxcox\n",
        "data['box_office_bc'], _ = boxcox(data['box_office'] + 1)\n",
        "\n",
        "X = data[['budget', 'FilmCritics', 'ratingKinopoisk', 'Length', 'sequel', 'season', 'weekend', 'SJW','star_power', 'action movie', 'comedy', 'drama']]\n",
        "X = sm.add_constant(X)\n",
        "y = data['box_office_bc']\n",
        "model_log = sm.OLS(y, X).fit(cov_type='HC3')\n",
        "print(model_log.summary())"
      ],
      "metadata": {
        "colab": {
          "base_uri": "https://localhost:8080/"
        },
        "id": "XCEbsc4ae3zr",
        "outputId": "986af6ab-86d6-4e06-d60f-2cd73fa22eab"
      },
      "execution_count": null,
      "outputs": [
        {
          "output_type": "stream",
          "name": "stderr",
          "text": [
            "/usr/local/lib/python3.11/dist-packages/statsmodels/base/model.py:1894: ValueWarning: covariance of constraints does not have full rank. The number of constraints is 12, but rank is 11\n",
            "  warnings.warn('covariance of constraints does not have full '\n"
          ]
        },
        {
          "output_type": "stream",
          "name": "stdout",
          "text": [
            "                            OLS Regression Results                            \n",
            "==============================================================================\n",
            "Dep. Variable:          box_office_bc   R-squared:                       0.655\n",
            "Model:                            OLS   Adj. R-squared:                  0.615\n",
            "Method:                 Least Squares   F-statistic:                     6.766\n",
            "Date:                Wed, 07 May 2025   Prob (F-statistic):           1.89e-08\n",
            "Time:                        21:20:39   Log-Likelihood:                -493.39\n",
            "No. Observations:                 116   AIC:                             1013.\n",
            "Df Residuals:                     103   BIC:                             1049.\n",
            "Df Model:                          12                                         \n",
            "Covariance Type:                  HC3                                         \n",
            "===================================================================================\n",
            "                      coef    std err          z      P>|z|      [0.025      0.975]\n",
            "-----------------------------------------------------------------------------------\n",
            "const              45.1905     17.531      2.578      0.010      10.831      79.550\n",
            "budget           2.101e-07    3.9e-08      5.385      0.000    1.34e-07    2.87e-07\n",
            "FilmCritics         3.0577      2.696      1.134      0.257      -2.226       8.342\n",
            "ratingKinopoisk     8.0985      3.388      2.390      0.017       1.457      14.740\n",
            "Length             -0.1394      0.089     -1.574      0.115      -0.313       0.034\n",
            "sequel             24.0272      4.099      5.861      0.000      15.993      32.062\n",
            "season              3.8118      3.871      0.985      0.325      -3.775      11.398\n",
            "weekend             1.9773     21.831      0.091      0.928     -40.811      44.766\n",
            "SJW                 8.3529      6.086      1.373      0.170      -3.575      20.281\n",
            "star_power         -1.6528      2.063     -0.801      0.423      -5.697       2.391\n",
            "action movie       -7.3114      4.311     -1.696      0.090     -15.761       1.138\n",
            "comedy             -3.2403      4.203     -0.771      0.441     -11.479       4.998\n",
            "drama              -1.2515      4.857     -0.258      0.797     -10.772       8.269\n",
            "==============================================================================\n",
            "Omnibus:                        1.383   Durbin-Watson:                   1.784\n",
            "Prob(Omnibus):                  0.501   Jarque-Bera (JB):                1.078\n",
            "Skew:                          -0.232   Prob(JB):                        0.583\n",
            "Kurtosis:                       3.083   Cond. No.                     1.13e+09\n",
            "==============================================================================\n",
            "\n",
            "Notes:\n",
            "[1] Standard Errors are heteroscedasticity robust (HC3)\n",
            "[2] The condition number is large, 1.13e+09. This might indicate that there are\n",
            "strong multicollinearity or other numerical problems.\n"
          ]
        }
      ]
    },
    {
      "cell_type": "code",
      "source": [],
      "metadata": {
        "id": "Vm0dfsgZe38i"
      },
      "execution_count": null,
      "outputs": []
    },
    {
      "cell_type": "code",
      "source": [],
      "metadata": {
        "id": "fVrvr0Xze4EP"
      },
      "execution_count": null,
      "outputs": []
    },
    {
      "cell_type": "code",
      "source": [],
      "metadata": {
        "id": "KRsJHPPGu6VW"
      },
      "execution_count": null,
      "outputs": []
    },
    {
      "cell_type": "markdown",
      "source": [
        "# 3. Построение дополнительной модели: RDD"
      ],
      "metadata": {
        "id": "XI8hpSotgFYI"
      }
    },
    {
      "cell_type": "markdown",
      "source": [
        "Проверим нулевую гипотезу:\n",
        "\n",
        "H0: Основные факторы влияющие на кассовые сборы не отличаются в 2023 и 2024 годах.\n",
        "\n",
        "H1: Влиятельные факторы различны (то есть большую значимость оказывают иные переменные)"
      ],
      "metadata": {
        "id": "NPber-SSgSmv"
      }
    },
    {
      "cell_type": "code",
      "source": [
        "# Предобработка\n",
        "df['post_2023'] = (df['year'] == 2024).astype(int)\n",
        "\n",
        "# Выбираем признаки\n",
        "X_base = ['budget', 'FilmCritics', 'star_power', 'Length', 'sequel', 'season', 'weekend', 'SJW']\n",
        "X = df[X_base]\n",
        "y = df['box_office']"
      ],
      "metadata": {
        "id": "E6FWhUzUg6Kf"
      },
      "execution_count": null,
      "outputs": []
    },
    {
      "cell_type": "code",
      "source": [
        "# Добавляем переменные взаимодействия\n",
        "for col in X_base:\n",
        "    df[f'{col}_x_post'] = df[col] * df['post_2023']\n",
        "\n",
        "# Конструируем матрицу признаков\n",
        "X_full = df[X_base + ['post_2023'] + [f'{col}_x_post' for col in X_base]]\n",
        "X_full = sm.add_constant(X_full)"
      ],
      "metadata": {
        "id": "soIIxBK2jeEz"
      },
      "execution_count": null,
      "outputs": []
    },
    {
      "cell_type": "code",
      "source": [
        "# Проверка на NaN и inf\n",
        "print(\"Есть ли NaN:\", X_full.isnull().values.any())\n",
        "print(\"Есть ли inf:\", np.isinf(X_full).values.any())\n",
        "\n",
        "# Удаление строк с NaN или inf\n",
        "X_full_clean = X_full.replace([np.inf, -np.inf], np.nan).dropna()\n",
        "y_clean = y.loc[X_full_clean.index]  # не забудь подогнать y под очищенные X"
      ],
      "metadata": {
        "id": "qhieUu2-kP8O",
        "colab": {
          "base_uri": "https://localhost:8080/"
        },
        "outputId": "f410f584-057e-409e-82b6-f2b3db493c67"
      },
      "execution_count": null,
      "outputs": [
        {
          "output_type": "stream",
          "name": "stdout",
          "text": [
            "Есть ли NaN: True\n",
            "Есть ли inf: False\n"
          ]
        }
      ]
    },
    {
      "cell_type": "code",
      "source": [
        "# Преобразование булевых в int\n",
        "X_full_clean = X_full_clean.astype(float)"
      ],
      "metadata": {
        "id": "6h1TWGw7kiCk"
      },
      "execution_count": null,
      "outputs": []
    },
    {
      "cell_type": "markdown",
      "source": [
        "Создаем бинарную переменную post_2023 = 1, если year == 2024.\n",
        "Добавить переменные взаимодействия X * post_2023.\n",
        "Теперь строим регрессионную модель:\n",
        "\n",
        "y=β0 +β1 X+β2 post_2023+β3 (X⋅post_2023)+ ε\n",
        "\n",
        "\n",
        "Коэффициенты при взаимодействиях (\n",
        "β3 ) покажут, насколько изменился вклад переменных в 2024 году."
      ],
      "metadata": {
        "id": "LQ0VJEMLkpoW"
      }
    },
    {
      "cell_type": "markdown",
      "source": [
        "Проверка гипотезы:\n",
        "\n",
        "H0: Коэффициенты взаимодействий (β3) незначимы или влияние переменных не изменилось.\n",
        "\n",
        "H1: Некоторые\n",
        "β3  значимы, то есть влияние факторов изменилось в 2024 году.\n",
        "\n",
        "Смотрим на p-value у переменных x post."
      ],
      "metadata": {
        "id": "-jfy8StRlOj6"
      }
    },
    {
      "cell_type": "code",
      "source": [
        "# Строим модель\n",
        "model = sm.OLS(y_clean, X_full_clean).fit()\n",
        "print(model.summary())"
      ],
      "metadata": {
        "id": "lv7SbqrkjjN_",
        "colab": {
          "base_uri": "https://localhost:8080/"
        },
        "outputId": "a60b05bd-cf67-4fea-e7d2-ed5deeea3bc9"
      },
      "execution_count": null,
      "outputs": [
        {
          "output_type": "stream",
          "name": "stdout",
          "text": [
            "                            OLS Regression Results                            \n",
            "==============================================================================\n",
            "Dep. Variable:             box_office   R-squared:                       0.581\n",
            "Model:                            OLS   Adj. R-squared:                  0.511\n",
            "Method:                 Least Squares   F-statistic:                     8.308\n",
            "Date:                Wed, 07 May 2025   Prob (F-statistic):           8.81e-13\n",
            "Time:                        22:16:04   Log-Likelihood:                -2470.3\n",
            "No. Observations:                 120   AIC:                             4977.\n",
            "Df Residuals:                     102   BIC:                             5027.\n",
            "Df Model:                          17                                         \n",
            "Covariance Type:            nonrobust                                         \n",
            "======================================================================================\n",
            "                         coef    std err          t      P>|t|      [0.025      0.975]\n",
            "--------------------------------------------------------------------------------------\n",
            "const              -1.803e+08   2.11e+08     -0.855      0.395   -5.99e+08    2.38e+08\n",
            "budget                 1.3676      0.496      2.755      0.007       0.383       2.352\n",
            "FilmCritics         5.899e+07   3.16e+07      1.864      0.065   -3.78e+06    1.22e+08\n",
            "star_power          2.767e+07   2.82e+07      0.982      0.329   -2.82e+07    8.36e+07\n",
            "Length             -1.604e+06   1.74e+06     -0.924      0.358   -5.05e+06    1.84e+06\n",
            "sequel              1.531e+08   6.94e+07      2.206      0.030    1.54e+07    2.91e+08\n",
            "season              7.883e+07   6.23e+07      1.265      0.209   -4.48e+07    2.02e+08\n",
            "weekend            -1.728e+08   2.37e+08     -0.730      0.467   -6.42e+08    2.97e+08\n",
            "SJW                 7.777e+07   7.18e+07      1.083      0.281   -6.47e+07     2.2e+08\n",
            "post_2023          -2.166e+08    2.9e+08     -0.746      0.457   -7.92e+08    3.59e+08\n",
            "budget_x_post          1.1243      0.809      1.389      0.168      -0.481       2.730\n",
            "FilmCritics_x_post  6.095e+07   4.15e+07      1.469      0.145   -2.14e+07    1.43e+08\n",
            "star_power_x_post  -5.385e+07   4.91e+07     -1.097      0.275   -1.51e+08    4.35e+07\n",
            "Length_x_post       -2.38e+06   2.33e+06     -1.021      0.309      -7e+06    2.24e+06\n",
            "sequel_x_post       1.296e+08   1.01e+08      1.280      0.203   -7.12e+07     3.3e+08\n",
            "season_x_post       7.107e+07   9.01e+07      0.789      0.432   -1.08e+08     2.5e+08\n",
            "weekend_x_post      4.224e+07   3.37e+08      0.125      0.901   -6.27e+08    7.11e+08\n",
            "SJW_x_post          1.595e+08   1.17e+08      1.367      0.175    -7.2e+07    3.91e+08\n",
            "==============================================================================\n",
            "Omnibus:                       75.363   Durbin-Watson:                   1.783\n",
            "Prob(Omnibus):                  0.000   Jarque-Bera (JB):              460.051\n",
            "Skew:                           2.094   Prob(JB):                    1.26e-100\n",
            "Kurtosis:                      11.630   Cond. No.                     2.33e+09\n",
            "==============================================================================\n",
            "\n",
            "Notes:\n",
            "[1] Standard Errors assume that the covariance matrix of the errors is correctly specified.\n",
            "[2] The condition number is large, 2.33e+09. This might indicate that there are\n",
            "strong multicollinearity or other numerical problems.\n"
          ]
        }
      ]
    },
    {
      "cell_type": "markdown",
      "source": [
        "y=β0 +β1* X1 +β2 *X2 +β3* X3 +⋯+βn *Xn +βpost ⋅post_2023+β1post (X1 ⋅post_2023)+β2post (X2 ⋅post_2023)+⋯+βnpost (Xn ⋅post_2023)+ ϵ\n",
        "\n",
        "\n",
        "Где:\n",
        "y — это зависимая переменная (в данном случае box_office),\n",
        "X1 ,X2 ,X3 ,…,Xn  — это независимые переменные (например, budget, FilmCritics, и т. д.),\n",
        "\n",
        "\n",
        "β0  — это свободный член (константа),\n",
        "β1 ,β2 ,…,βn  — коэффициенты для переменных X\n",
        "βpost  — коэффициент для переменной post_2023,\n",
        ",\n",
        "…\n",
        "bpost ,β2post ,…,βnpost  — коэффициенты для переменных взаимодействия (переменные X, умноженные на post_2023), ϵ — ошибка модели."
      ],
      "metadata": {
        "id": "U8cxKNaszQml"
      }
    },
    {
      "cell_type": "markdown",
      "source": [
        "Для проверки гипотезы H0 и H1 важно анализировать p-value для коэффициентов взаимодействия (x post). Если p-value для коэффициента взаимодействия больше уровня значимости (0.05), мы не отвергаем гипотезу H0.\n",
        "\n",
        "\n",
        "p-value < 0.05: переменная взаимодействия значима (мы отвергаем H0).\n",
        "p-value >= 0.05: переменная взаимодействия незначима (мы не отвергаем H0).\n",
        "\n",
        "\n",
        "budget_x_post: p-value = 0.168 → не значимо\n",
        "FilmCritics_x_post: p-value = 0.145 → не значимо\n",
        "star_power_x_post: p-value = 0.275 → не значимо\n",
        "Length_x_post: p-value = 0.309 → не значимо\n",
        "sequel_x_post: p-value = 0.203 → не значимо\n",
        "season_x_post: p-value = 0.432 → не значимо\n",
        "weekend_x_post: p-value = 0.901 → не значимо\n",
        "SJW_x_post: p-value = 0.175 → не значимо\n",
        "\n",
        "\n",
        "Все переменные взаимодействия имеют p-value > 0.05, что означает, что они не значимы.\n",
        "Таким образом, H0 не отвергается, и можно сделать вывод, что влияние переменных не изменилось в 2024 году."
      ],
      "metadata": {
        "id": "lfmVH2XF0FFy"
      }
    },
    {
      "cell_type": "markdown",
      "source": [
        "Проверим другую гипотезу:\n",
        "\n",
        "H0: В 2024 году основные показатели для выпущенных фильмов были ниже, чем в 2023 году.\n",
        "\n",
        "H1: Показатели примерно совпадают или же в 2024 году были значительно ниже."
      ],
      "metadata": {
        "id": "nn_X3HiHgprV"
      }
    },
    {
      "cell_type": "code",
      "source": [
        "# Разделяем данные по годам\n",
        "df_2023 = df[df['year'] == 2023]['box_office']\n",
        "df_2024 = df[df['year'] == 2024]['box_office']\n",
        "\n",
        "# Применяем t-тест для независимых выборок\n",
        "t_stat, p_value = stats.ttest_ind(df_2023, df_2024, alternative='less')\n",
        "\n",
        "# Выводим результаты\n",
        "print(\"t-статистика:\", t_stat)\n",
        "print(\"p-value:\", p_value)\n",
        "\n",
        "# Оценка гипотезы\n",
        "if p_value < 0.05:\n",
        "    print(\"Отвергаем нулевую гипотезу H0, кассовые сборы в 2024 году значительно ниже, чем в 2023.\")\n",
        "else:\n",
        "    print(\"Не отвергаем нулевую гипотезу H0, кассовые сборы в 2024 году не ниже, чем в 2023.\")"
      ],
      "metadata": {
        "id": "wDpgiHegyTo9",
        "colab": {
          "base_uri": "https://localhost:8080/"
        },
        "outputId": "0901e6e1-f5f9-411f-da56-5aea5a1a0404"
      },
      "execution_count": null,
      "outputs": [
        {
          "output_type": "stream",
          "name": "stdout",
          "text": [
            "t-статистика: -0.05007656741592756\n",
            "p-value: 0.48007197100723675\n",
            "Не отвергаем нулевую гипотезу H0, кассовые сборы в 2024 году не ниже, чем в 2023.\n"
          ]
        }
      ]
    },
    {
      "cell_type": "code",
      "source": [
        "# Сдвигаем облака ближе к центру\n",
        "df['running_var'] = df['year'].apply(lambda x: -0.02 if x == 2023 else 0.02)\n",
        "\n",
        "# Добавляем небольшой шум с меньшим диапазоном\n",
        "df['running_var_jitter'] = df['running_var'] + (np.random.rand(len(df)) - 0.5) * 0.04\n",
        "\n",
        "# Настройка стиля\n",
        "sns.set(style=\"whitegrid\")\n",
        "\n",
        "# График\n",
        "plt.figure(figsize=(12, 10))\n",
        "\n",
        "# Облако точек\n",
        "sns.scatterplot(x='running_var_jitter', y='box_office', data=df, alpha=0.5)\n",
        "\n",
        "# Линия тренда 2023\n",
        "sns.regplot(\n",
        "    x='running_var_jitter', y='box_office',\n",
        "    data=df[df['year'] == 2023],\n",
        "    scatter=False, color='blue', label='Тренд 2023',\n",
        "    line_kws={\"linewidth\": 2}\n",
        ")\n",
        "\n",
        "# Линия тренда 2024\n",
        "sns.regplot(\n",
        "    x='running_var_jitter', y='box_office',\n",
        "    data=df[df['year'] == 2024],\n",
        "    scatter=False, color='orange', label='Тренд 2024',\n",
        "    line_kws={\"linewidth\": 2}\n",
        ")\n",
        "\n",
        "# Вертикальная линия — точка разрыва\n",
        "plt.axvline(0, color='black', linestyle='--', label='Разрыв (cutoff)')\n",
        "\n",
        "# Настройка осей\n",
        "plt.xticks([-0.02, 0.02], ['2023', '2024'])\n",
        "plt.xlabel('Год разрыва')\n",
        "plt.ylabel('Кассовые сборы box office')\n",
        "plt.title('RDD-график: влияние года релиза на сборы')\n",
        "plt.legend()\n",
        "plt.tight_layout()\n",
        "\n",
        "# Сохранение графика\n",
        "plt.savefig('rdd_graph.png')\n",
        "\n",
        "# Показ графика\n",
        "plt.show()\n"
      ],
      "metadata": {
        "id": "jja09DCCumwj",
        "colab": {
          "base_uri": "https://localhost:8080/",
          "height": 1000
        },
        "outputId": "b79a6036-9d3a-44e9-9d28-ac8ec2db6522"
      },
      "execution_count": null,
      "outputs": [
        {
          "output_type": "display_data",
          "data": {
            "text/plain": [
              "<Figure size 1200x1000 with 1 Axes>"
            ],
            "image/png": "[encoded data removed]"
          },
          "metadata": {}
        }
      ]
    },
    {
      "cell_type": "code",
      "source": [
        "# Преобразуем столбец 'reliase date' в datetime с учетом двухзначных годов\n",
        "df['reliase date'] = pd.to_datetime(df['reliase date'], format='%d.%m.%y', errors='coerce')\n",
        "\n",
        "# Преобразуем 'reliase date' в количество дней (целочисленные значения)\n",
        "df['reliase date num'] = (df['reliase date'] - df['reliase date'].min()).dt.days\n",
        "\n",
        "# Преобразуем столбец 'box_office' в числовой тип, заменяя нечисловые значения на NaN\n",
        "df['box_office'] = pd.to_numeric(df['box_office'], errors='coerce')\n",
        "\n",
        "# Разделяем данные на две группы\n",
        "cutoff = '01.01.2024'\n",
        "df_left = df[df['reliase date'] <= pd.to_datetime(cutoff, format='%d.%m.%Y')]\n",
        "df_right = df[df['reliase date'] >= pd.to_datetime(cutoff, format='%d.%m.%Y')]\n",
        "\n",
        "# Строим график\n",
        "plt.figure(figsize=(8,6))\n",
        "\n",
        "# Сначала рисуем все точки\n",
        "sns.scatterplot(x='reliase date num', y='box_office', data=df, color='gray', alpha=0.6)\n",
        "\n",
        "# Линия регрессии для данных слева от порога\n",
        "sns.regplot(x='reliase date num', y='box_office', data=df_left, scatter=False, color='blue')\n",
        "\n",
        "# Линия регрессии для данных справа от порога\n",
        "sns.regplot(x='reliase date num', y='box_office', data=df_right, scatter=False, color='red')\n",
        "\n",
        "# Добавляем вертикальную линию на порог (переводим cutoff в число дней)\n",
        "cutoff_date_num = (pd.to_datetime(cutoff, format='%d.%m.%Y') - df['reliase date'].min()).days\n",
        "plt.axvline(x=cutoff_date_num, color='black', linestyle='--')\n",
        "\n",
        "# Настройки графика\n",
        "plt.xlabel('Days since first release date')\n",
        "plt.ylabel('Box Office')\n",
        "plt.legend(['Regression Left', 'Regression Right', 'Cutoff'])\n",
        "plt.show()"
      ],
      "metadata": {
        "colab": {
          "base_uri": "https://localhost:8080/",
          "height": 566
        },
        "id": "qC6p8E8-2h7y",
        "outputId": "eb4f9614-0095-40df-f413-4c1924fa7eeb"
      },
      "execution_count": null,
      "outputs": [
        {
          "output_type": "display_data",
          "data": {
            "text/plain": [
              "<Figure size 800x600 with 1 Axes>"
            ],
            "image/png": "[encoded data removed]"
          },
          "metadata": {}
        }
      ]
    },
    {
      "cell_type": "code",
      "source": [],
      "metadata": {
        "id": "m7zs6T835QO_"
      },
      "execution_count": null,
      "outputs": []
    }
  ]
}